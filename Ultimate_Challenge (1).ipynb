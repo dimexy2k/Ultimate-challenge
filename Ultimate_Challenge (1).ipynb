{
 "cells": [
  {
   "cell_type": "code",
   "execution_count": 1,
   "metadata": {},
   "outputs": [],
   "source": [
    "import pandas as pd\n",
    "import json\n",
    "import numpy as np\n",
    "import datetime\n",
    "\n",
    "import seaborn as sns\n",
    "import matplotlib.pyplot as plt\n",
    "import matplotlib as mpl \n",
    "%matplotlib inline\n",
    "mpl.rcParams['patch.force_edgecolor'] = True\n",
    "sns.set()"
   ]
  },
  {
   "cell_type": "code",
   "execution_count": 3,
   "metadata": {},
   "outputs": [],
   "source": [
    "df_logins = pd.read_json('logins.json')"
   ]
  },
  {
   "cell_type": "code",
   "execution_count": 4,
   "metadata": {},
   "outputs": [
    {
     "data": {
      "text/html": [
       "<div>\n",
       "<style scoped>\n",
       "    .dataframe tbody tr th:only-of-type {\n",
       "        vertical-align: middle;\n",
       "    }\n",
       "\n",
       "    .dataframe tbody tr th {\n",
       "        vertical-align: top;\n",
       "    }\n",
       "\n",
       "    .dataframe thead th {\n",
       "        text-align: right;\n",
       "    }\n",
       "</style>\n",
       "<table border=\"1\" class=\"dataframe\">\n",
       "  <thead>\n",
       "    <tr style=\"text-align: right;\">\n",
       "      <th></th>\n",
       "      <th>login_time</th>\n",
       "    </tr>\n",
       "  </thead>\n",
       "  <tbody>\n",
       "    <tr>\n",
       "      <th>0</th>\n",
       "      <td>1970-01-01 20:13:18</td>\n",
       "    </tr>\n",
       "    <tr>\n",
       "      <th>1</th>\n",
       "      <td>1970-01-01 20:16:10</td>\n",
       "    </tr>\n",
       "    <tr>\n",
       "      <th>2</th>\n",
       "      <td>1970-01-01 20:16:37</td>\n",
       "    </tr>\n",
       "    <tr>\n",
       "      <th>3</th>\n",
       "      <td>1970-01-01 20:16:36</td>\n",
       "    </tr>\n",
       "    <tr>\n",
       "      <th>4</th>\n",
       "      <td>1970-01-01 20:26:21</td>\n",
       "    </tr>\n",
       "  </tbody>\n",
       "</table>\n",
       "</div>"
      ],
      "text/plain": [
       "           login_time\n",
       "0 1970-01-01 20:13:18\n",
       "1 1970-01-01 20:16:10\n",
       "2 1970-01-01 20:16:37\n",
       "3 1970-01-01 20:16:36\n",
       "4 1970-01-01 20:26:21"
      ]
     },
     "execution_count": 4,
     "metadata": {},
     "output_type": "execute_result"
    }
   ],
   "source": [
    "df_logins.head()"
   ]
  },
  {
   "cell_type": "markdown",
   "metadata": {},
   "source": [
    "# Part 1: EDA"
   ]
  },
  {
   "cell_type": "markdown",
   "metadata": {},
   "source": [
    "### 1.1 Examine the data\n",
    "Basic overview."
   ]
  },
  {
   "cell_type": "code",
   "execution_count": 5,
   "metadata": {},
   "outputs": [
    {
     "name": "stdout",
     "output_type": "stream",
     "text": [
      "Earliest time in database:  1970-01-01 20:12:16\n",
      "Latest time in database:  1970-04-13 18:57:38 \n",
      "\n",
      "Total entries:  93142\n"
     ]
    }
   ],
   "source": [
    "print(\"Earliest time in database: \", min(df_logins[\"login_time\"]))\n",
    "print(\"Latest time in database: \", max(df_logins[\"login_time\"]), '\\n')\n",
    "\n",
    "print(\"Total entries: \", len(df_logins))"
   ]
  },
  {
   "cell_type": "markdown",
   "metadata": {},
   "source": [
    "All recorded dates are in 1970, beginning in January and ending in April (4-month period). Total of 93142 recorded user logins. Year is unusual - was there even a concept of \"login\" back in 1970? Data might be anonymized by changing the timestamps to another era, or these timestamps were cleaned/wrangled from some physical or digital ledger.\n",
    "\n",
    "Freq across days, hours, months.\n",
    "To check for possible data quality issues."
   ]
  },
  {
   "cell_type": "code",
   "execution_count": 7,
   "metadata": {},
   "outputs": [
    {
     "data": {
      "image/png": "[encoded data removed]",
      "text/plain": [
       "<Figure size 1224x360 with 2 Axes>"
      ]
     },
     "metadata": {},
     "output_type": "display_data"
    }
   ],
   "source": [
    "# Set up dataframe\n",
    "\n",
    "datetimes = list(map(lambda x: x.date(), df_logins['login_time'].tolist())) # extract datetime objects\n",
    "\n",
    "months = list(map(lambda x: x.month, datetimes)) \n",
    "days = list(map(lambda x: x.day, datetimes))\n",
    "\n",
    "df_datetimes = pd.DataFrame({'month':months, 'day':days}) # Convert to dataframe, with separate month & day columns\n",
    "\n",
    "# Plot\n",
    "\n",
    "fig, (ax1, ax2) = plt.subplots(nrows=1, ncols=2, figsize=(17,5))\n",
    "# Count by month\n",
    "df1 = df_datetimes.groupby('month').count()\n",
    "sns.barplot(x=df1.index.tolist(), y=\"day\", data=df1, ax=ax1);\n",
    "ax1.set(xlabel='Count by unique month', ylabel=\"Count\", title=\"Months\");\n",
    "\n",
    "# Count by day\n",
    "df2 = df_datetimes.groupby('day').count()\n",
    "sns.barplot(x=df2.index.tolist(), y=\"month\", data=df2, ax=ax2);\n",
    "ax2.set(xlabel='Count by unique day', ylabel=\"Count\", title=\"Days\");"
   ]
  },
  {
   "cell_type": "markdown",
   "metadata": {},
   "source": [
    "Some observations:\n",
    "\n",
    "March has the most number of user logins. April has much fewer, possibly because data collection was truncated before month ended.\n",
    "Last 2 days of month have the least number of user logins.\n",
    "No glaring data quality issues though, which is good."
   ]
  },
  {
   "cell_type": "markdown",
   "metadata": {},
   "source": [
    "# 1.2 Aggregating intervals - 15 min"
   ]
  },
  {
   "cell_type": "markdown",
   "metadata": {},
   "source": [
    "Aggregate login counts based on 15-min intervals."
   ]
  },
  {
   "cell_type": "code",
   "execution_count": 8,
   "metadata": {},
   "outputs": [
    {
     "data": {
      "text/html": [
       "<div>\n",
       "<style scoped>\n",
       "    .dataframe tbody tr th:only-of-type {\n",
       "        vertical-align: middle;\n",
       "    }\n",
       "\n",
       "    .dataframe tbody tr th {\n",
       "        vertical-align: top;\n",
       "    }\n",
       "\n",
       "    .dataframe thead th {\n",
       "        text-align: right;\n",
       "    }\n",
       "</style>\n",
       "<table border=\"1\" class=\"dataframe\">\n",
       "  <thead>\n",
       "    <tr style=\"text-align: right;\">\n",
       "      <th></th>\n",
       "      <th>count</th>\n",
       "    </tr>\n",
       "    <tr>\n",
       "      <th>login_time</th>\n",
       "      <th></th>\n",
       "    </tr>\n",
       "  </thead>\n",
       "  <tbody>\n",
       "    <tr>\n",
       "      <th>1970-01-01 20:00:00</th>\n",
       "      <td>2</td>\n",
       "    </tr>\n",
       "    <tr>\n",
       "      <th>1970-01-01 20:15:00</th>\n",
       "      <td>6</td>\n",
       "    </tr>\n",
       "    <tr>\n",
       "      <th>1970-01-01 20:30:00</th>\n",
       "      <td>9</td>\n",
       "    </tr>\n",
       "    <tr>\n",
       "      <th>1970-01-01 20:45:00</th>\n",
       "      <td>7</td>\n",
       "    </tr>\n",
       "    <tr>\n",
       "      <th>1970-01-01 21:00:00</th>\n",
       "      <td>1</td>\n",
       "    </tr>\n",
       "  </tbody>\n",
       "</table>\n",
       "</div>"
      ],
      "text/plain": [
       "                     count\n",
       "login_time                \n",
       "1970-01-01 20:00:00      2\n",
       "1970-01-01 20:15:00      6\n",
       "1970-01-01 20:30:00      9\n",
       "1970-01-01 20:45:00      7\n",
       "1970-01-01 21:00:00      1"
      ]
     },
     "execution_count": 8,
     "metadata": {},
     "output_type": "execute_result"
    }
   ],
   "source": [
    "df = pd.DataFrame.copy(df_logins) # make copy of dataframe to work with\n",
    "df.set_index('login_time', inplace=True) # set index to be the timestamps, to allow aggregation\n",
    "df['count'] = 1 # each timestamp has 1 count\n",
    "df_15 = df.resample('15T').sum() # aggregate by 15-min intervals\n",
    "df_15.head()"
   ]
  },
  {
   "cell_type": "code",
   "execution_count": 9,
   "metadata": {},
   "outputs": [
    {
     "data": {
      "image/png": "[encoded data removed]",
      "text/plain": [
       "<Figure size 1224x360 with 1 Axes>"
      ]
     },
     "metadata": {},
     "output_type": "display_data"
    }
   ],
   "source": [
    "plt.figure(figsize=(17,5));\n",
    "plt.plot(df_15);\n",
    "plt.xlabel('Date')\n",
    "plt.ylabel('Count')\n",
    "plt.title('Timeseries count of logins during each 15-min interval');"
   ]
  },
  {
   "cell_type": "markdown",
   "metadata": {},
   "source": [
    "We see a spike in logins near the beginning of March.\n",
    "\n",
    "The plot is difficult to interpret beyond just large chunks of dates. We will narrow the figure down to different time-levels."
   ]
  },
  {
   "cell_type": "markdown",
   "metadata": {},
   "source": [
    "Plot different time intervals"
   ]
  },
  {
   "cell_type": "code",
   "execution_count": 11,
   "metadata": {},
   "outputs": [
    {
     "data": {
      "image/png": "[encoded data removed]",
      "text/plain": [
       "<Figure size 1296x720 with 4 Axes>"
      ]
     },
     "metadata": {},
     "output_type": "display_data"
    }
   ],
   "source": [
    "fig, ((ax1, ax2), (ax3, ax4)) = plt.subplots(nrows=2, ncols=2, figsize=(18,10));\n",
    "\n",
    "# 60-min interval\n",
    "ax1.plot(df.resample('60T').sum());\n",
    "ax1.set(xlabel='Time-series hourly (60m) interval', ylabel='User login count', title='Hourly interval');\n",
    "\n",
    "# Daily interval\n",
    "ax2.plot(df.resample('D').sum());\n",
    "ax2.set(xlabel='Time-series daily (24h) interval', ylabel='User login count', title='Daily interval');\n",
    "\n",
    "# Weekly interval\n",
    "ax3.plot(df.resample('W').sum());\n",
    "ax3.set(xlabel='Time-series weekly interval', ylabel='User login count', title='Weekly interval');\n",
    "\n",
    "# Monthly interval\n",
    "ax4.plot(df.resample('M').sum());\n",
    "ax4.set(xlabel='Time-series monthly interval', ylabel='User login count', title='Monthly interval');"
   ]
  },
  {
   "cell_type": "markdown",
   "metadata": {},
   "source": [
    "Big picture: On the hourly and daily level, it's still difficult to picture any patterns due to the constrained x-axis.\n",
    "\n",
    "Cycles: However, even from this bird's eye view we can see a general cyclic pattern emerging from the \"Daily interval\" figure - it seems there might be certain hours of the day at which there are more user logins than other parts of day, and this cycle repeats itself each day, even though intensity varies.\n",
    "\n",
    "Zoom in on a single day's cycle\n",
    "Zoom in on the hourly interval of a single day, so that we can better picture fluctuations throughout the day that we couldn't see in previous figure. These fluctuations probably make up a single cycle, which we see repeating each day (albeit with differing intensities). We'll randomly pick Feb 4, 2017."
   ]
  },
  {
   "cell_type": "code",
   "execution_count": 13,
   "metadata": {},
   "outputs": [
    {
     "ename": "TypeError",
     "evalue": "Invalid comparison between dtype=datetime64[ns] and date",
     "output_type": "error",
     "traceback": [
      "\u001b[1;31m---------------------------------------------------------------------------\u001b[0m",
      "\u001b[1;31mInvalidComparison\u001b[0m                         Traceback (most recent call last)",
      "\u001b[1;32m~\\anaconda3\\lib\\site-packages\\pandas\\core\\arrays\\datetimelike.py\u001b[0m in \u001b[0;36m_cmp_method\u001b[1;34m(self, other, op)\u001b[0m\n\u001b[0;32m    931\u001b[0m         \u001b[1;32mtry\u001b[0m\u001b[1;33m:\u001b[0m\u001b[1;33m\u001b[0m\u001b[1;33m\u001b[0m\u001b[0m\n\u001b[1;32m--> 932\u001b[1;33m             \u001b[0mother\u001b[0m \u001b[1;33m=\u001b[0m \u001b[0mself\u001b[0m\u001b[1;33m.\u001b[0m\u001b[0m_validate_comparison_value\u001b[0m\u001b[1;33m(\u001b[0m\u001b[0mother\u001b[0m\u001b[1;33m)\u001b[0m\u001b[1;33m\u001b[0m\u001b[1;33m\u001b[0m\u001b[0m\n\u001b[0m\u001b[0;32m    933\u001b[0m         \u001b[1;32mexcept\u001b[0m \u001b[0mInvalidComparison\u001b[0m\u001b[1;33m:\u001b[0m\u001b[1;33m\u001b[0m\u001b[1;33m\u001b[0m\u001b[0m\n",
      "\u001b[1;32m~\\anaconda3\\lib\\site-packages\\pandas\\core\\arrays\\datetimelike.py\u001b[0m in \u001b[0;36m_validate_comparison_value\u001b[1;34m(self, other)\u001b[0m\n\u001b[0;32m    450\u001b[0m         \u001b[1;32melif\u001b[0m \u001b[1;32mnot\u001b[0m \u001b[0mis_list_like\u001b[0m\u001b[1;33m(\u001b[0m\u001b[0mother\u001b[0m\u001b[1;33m)\u001b[0m\u001b[1;33m:\u001b[0m\u001b[1;33m\u001b[0m\u001b[1;33m\u001b[0m\u001b[0m\n\u001b[1;32m--> 451\u001b[1;33m             \u001b[1;32mraise\u001b[0m \u001b[0mInvalidComparison\u001b[0m\u001b[1;33m(\u001b[0m\u001b[0mother\u001b[0m\u001b[1;33m)\u001b[0m\u001b[1;33m\u001b[0m\u001b[1;33m\u001b[0m\u001b[0m\n\u001b[0m\u001b[0;32m    452\u001b[0m \u001b[1;33m\u001b[0m\u001b[0m\n",
      "\u001b[1;31mInvalidComparison\u001b[0m: 1970-02-03",
      "\nDuring handling of the above exception, another exception occurred:\n",
      "\u001b[1;31mTypeError\u001b[0m                                 Traceback (most recent call last)",
      "\u001b[1;32m<ipython-input-13-6210b1d769e7>\u001b[0m in \u001b[0;36m<module>\u001b[1;34m\u001b[0m\n\u001b[0;32m      1\u001b[0m \u001b[1;31m# Grab all logins on Feb 4, 1970\u001b[0m\u001b[1;33m\u001b[0m\u001b[1;33m\u001b[0m\u001b[1;33m\u001b[0m\u001b[0m\n\u001b[1;32m----> 2\u001b[1;33m \u001b[0mmask\u001b[0m \u001b[1;33m=\u001b[0m \u001b[1;33m(\u001b[0m\u001b[0mdf_logins\u001b[0m\u001b[1;33m[\u001b[0m\u001b[1;34m'login_time'\u001b[0m\u001b[1;33m]\u001b[0m \u001b[1;33m>\u001b[0m \u001b[0mdatetime\u001b[0m\u001b[1;33m.\u001b[0m\u001b[0mdate\u001b[0m\u001b[1;33m(\u001b[0m\u001b[1;36m1970\u001b[0m\u001b[1;33m,\u001b[0m \u001b[1;36m2\u001b[0m\u001b[1;33m,\u001b[0m \u001b[1;36m3\u001b[0m\u001b[1;33m)\u001b[0m\u001b[1;33m)\u001b[0m \u001b[1;33m&\u001b[0m \u001b[1;33m(\u001b[0m\u001b[0mdf_logins\u001b[0m\u001b[1;33m[\u001b[0m\u001b[1;34m'login_time'\u001b[0m\u001b[1;33m]\u001b[0m \u001b[1;33m<=\u001b[0m \u001b[0mdatetime\u001b[0m\u001b[1;33m.\u001b[0m\u001b[0mdate\u001b[0m\u001b[1;33m(\u001b[0m\u001b[1;36m1970\u001b[0m\u001b[1;33m,\u001b[0m \u001b[1;36m2\u001b[0m\u001b[1;33m,\u001b[0m \u001b[1;36m4\u001b[0m\u001b[1;33m)\u001b[0m\u001b[1;33m)\u001b[0m\u001b[1;33m\u001b[0m\u001b[1;33m\u001b[0m\u001b[0m\n\u001b[0m\u001b[0;32m      3\u001b[0m \u001b[0mdf_day\u001b[0m \u001b[1;33m=\u001b[0m \u001b[0mdf_logins\u001b[0m\u001b[1;33m[\u001b[0m\u001b[0mmask\u001b[0m\u001b[1;33m]\u001b[0m\u001b[1;33m\u001b[0m\u001b[1;33m\u001b[0m\u001b[0m\n\u001b[0;32m      4\u001b[0m \u001b[1;33m\u001b[0m\u001b[0m\n\u001b[0;32m      5\u001b[0m \u001b[1;31m# Aggregate into 60-min intervals\u001b[0m\u001b[1;33m\u001b[0m\u001b[1;33m\u001b[0m\u001b[1;33m\u001b[0m\u001b[0m\n",
      "\u001b[1;32m~\\anaconda3\\lib\\site-packages\\pandas\\core\\ops\\common.py\u001b[0m in \u001b[0;36mnew_method\u001b[1;34m(self, other)\u001b[0m\n\u001b[0;32m     63\u001b[0m         \u001b[0mother\u001b[0m \u001b[1;33m=\u001b[0m \u001b[0mitem_from_zerodim\u001b[0m\u001b[1;33m(\u001b[0m\u001b[0mother\u001b[0m\u001b[1;33m)\u001b[0m\u001b[1;33m\u001b[0m\u001b[1;33m\u001b[0m\u001b[0m\n\u001b[0;32m     64\u001b[0m \u001b[1;33m\u001b[0m\u001b[0m\n\u001b[1;32m---> 65\u001b[1;33m         \u001b[1;32mreturn\u001b[0m \u001b[0mmethod\u001b[0m\u001b[1;33m(\u001b[0m\u001b[0mself\u001b[0m\u001b[1;33m,\u001b[0m \u001b[0mother\u001b[0m\u001b[1;33m)\u001b[0m\u001b[1;33m\u001b[0m\u001b[1;33m\u001b[0m\u001b[0m\n\u001b[0m\u001b[0;32m     66\u001b[0m \u001b[1;33m\u001b[0m\u001b[0m\n\u001b[0;32m     67\u001b[0m     \u001b[1;32mreturn\u001b[0m \u001b[0mnew_method\u001b[0m\u001b[1;33m\u001b[0m\u001b[1;33m\u001b[0m\u001b[0m\n",
      "\u001b[1;32m~\\anaconda3\\lib\\site-packages\\pandas\\core\\arraylike.py\u001b[0m in \u001b[0;36m__gt__\u001b[1;34m(self, other)\u001b[0m\n\u001b[0;32m     43\u001b[0m     \u001b[1;33m@\u001b[0m\u001b[0munpack_zerodim_and_defer\u001b[0m\u001b[1;33m(\u001b[0m\u001b[1;34m\"__gt__\"\u001b[0m\u001b[1;33m)\u001b[0m\u001b[1;33m\u001b[0m\u001b[1;33m\u001b[0m\u001b[0m\n\u001b[0;32m     44\u001b[0m     \u001b[1;32mdef\u001b[0m \u001b[0m__gt__\u001b[0m\u001b[1;33m(\u001b[0m\u001b[0mself\u001b[0m\u001b[1;33m,\u001b[0m \u001b[0mother\u001b[0m\u001b[1;33m)\u001b[0m\u001b[1;33m:\u001b[0m\u001b[1;33m\u001b[0m\u001b[1;33m\u001b[0m\u001b[0m\n\u001b[1;32m---> 45\u001b[1;33m         \u001b[1;32mreturn\u001b[0m \u001b[0mself\u001b[0m\u001b[1;33m.\u001b[0m\u001b[0m_cmp_method\u001b[0m\u001b[1;33m(\u001b[0m\u001b[0mother\u001b[0m\u001b[1;33m,\u001b[0m \u001b[0moperator\u001b[0m\u001b[1;33m.\u001b[0m\u001b[0mgt\u001b[0m\u001b[1;33m)\u001b[0m\u001b[1;33m\u001b[0m\u001b[1;33m\u001b[0m\u001b[0m\n\u001b[0m\u001b[0;32m     46\u001b[0m \u001b[1;33m\u001b[0m\u001b[0m\n\u001b[0;32m     47\u001b[0m     \u001b[1;33m@\u001b[0m\u001b[0munpack_zerodim_and_defer\u001b[0m\u001b[1;33m(\u001b[0m\u001b[1;34m\"__ge__\"\u001b[0m\u001b[1;33m)\u001b[0m\u001b[1;33m\u001b[0m\u001b[1;33m\u001b[0m\u001b[0m\n",
      "\u001b[1;32m~\\anaconda3\\lib\\site-packages\\pandas\\core\\series.py\u001b[0m in \u001b[0;36m_cmp_method\u001b[1;34m(self, other, op)\u001b[0m\n\u001b[0;32m   4976\u001b[0m         \u001b[0mrvalues\u001b[0m \u001b[1;33m=\u001b[0m \u001b[0mextract_array\u001b[0m\u001b[1;33m(\u001b[0m\u001b[0mother\u001b[0m\u001b[1;33m,\u001b[0m \u001b[0mextract_numpy\u001b[0m\u001b[1;33m=\u001b[0m\u001b[1;32mTrue\u001b[0m\u001b[1;33m)\u001b[0m\u001b[1;33m\u001b[0m\u001b[1;33m\u001b[0m\u001b[0m\n\u001b[0;32m   4977\u001b[0m \u001b[1;33m\u001b[0m\u001b[0m\n\u001b[1;32m-> 4978\u001b[1;33m         \u001b[0mres_values\u001b[0m \u001b[1;33m=\u001b[0m \u001b[0mops\u001b[0m\u001b[1;33m.\u001b[0m\u001b[0mcomparison_op\u001b[0m\u001b[1;33m(\u001b[0m\u001b[0mlvalues\u001b[0m\u001b[1;33m,\u001b[0m \u001b[0mrvalues\u001b[0m\u001b[1;33m,\u001b[0m \u001b[0mop\u001b[0m\u001b[1;33m)\u001b[0m\u001b[1;33m\u001b[0m\u001b[1;33m\u001b[0m\u001b[0m\n\u001b[0m\u001b[0;32m   4979\u001b[0m \u001b[1;33m\u001b[0m\u001b[0m\n\u001b[0;32m   4980\u001b[0m         \u001b[1;32mreturn\u001b[0m \u001b[0mself\u001b[0m\u001b[1;33m.\u001b[0m\u001b[0m_construct_result\u001b[0m\u001b[1;33m(\u001b[0m\u001b[0mres_values\u001b[0m\u001b[1;33m,\u001b[0m \u001b[0mname\u001b[0m\u001b[1;33m=\u001b[0m\u001b[0mres_name\u001b[0m\u001b[1;33m)\u001b[0m\u001b[1;33m\u001b[0m\u001b[1;33m\u001b[0m\u001b[0m\n",
      "\u001b[1;32m~\\anaconda3\\lib\\site-packages\\pandas\\core\\ops\\array_ops.py\u001b[0m in \u001b[0;36mcomparison_op\u001b[1;34m(left, right, op)\u001b[0m\n\u001b[0;32m    227\u001b[0m     \u001b[1;32mif\u001b[0m \u001b[0mshould_extension_dispatch\u001b[0m\u001b[1;33m(\u001b[0m\u001b[0mlvalues\u001b[0m\u001b[1;33m,\u001b[0m \u001b[0mrvalues\u001b[0m\u001b[1;33m)\u001b[0m\u001b[1;33m:\u001b[0m\u001b[1;33m\u001b[0m\u001b[1;33m\u001b[0m\u001b[0m\n\u001b[0;32m    228\u001b[0m         \u001b[1;31m# Call the method on lvalues\u001b[0m\u001b[1;33m\u001b[0m\u001b[1;33m\u001b[0m\u001b[1;33m\u001b[0m\u001b[0m\n\u001b[1;32m--> 229\u001b[1;33m         \u001b[0mres_values\u001b[0m \u001b[1;33m=\u001b[0m \u001b[0mop\u001b[0m\u001b[1;33m(\u001b[0m\u001b[0mlvalues\u001b[0m\u001b[1;33m,\u001b[0m \u001b[0mrvalues\u001b[0m\u001b[1;33m)\u001b[0m\u001b[1;33m\u001b[0m\u001b[1;33m\u001b[0m\u001b[0m\n\u001b[0m\u001b[0;32m    230\u001b[0m \u001b[1;33m\u001b[0m\u001b[0m\n\u001b[0;32m    231\u001b[0m     \u001b[1;32melif\u001b[0m \u001b[0mis_scalar\u001b[0m\u001b[1;33m(\u001b[0m\u001b[0mrvalues\u001b[0m\u001b[1;33m)\u001b[0m \u001b[1;32mand\u001b[0m \u001b[0misna\u001b[0m\u001b[1;33m(\u001b[0m\u001b[0mrvalues\u001b[0m\u001b[1;33m)\u001b[0m\u001b[1;33m:\u001b[0m\u001b[1;33m\u001b[0m\u001b[1;33m\u001b[0m\u001b[0m\n",
      "\u001b[1;32m~\\anaconda3\\lib\\site-packages\\pandas\\core\\ops\\common.py\u001b[0m in \u001b[0;36mnew_method\u001b[1;34m(self, other)\u001b[0m\n\u001b[0;32m     63\u001b[0m         \u001b[0mother\u001b[0m \u001b[1;33m=\u001b[0m \u001b[0mitem_from_zerodim\u001b[0m\u001b[1;33m(\u001b[0m\u001b[0mother\u001b[0m\u001b[1;33m)\u001b[0m\u001b[1;33m\u001b[0m\u001b[1;33m\u001b[0m\u001b[0m\n\u001b[0;32m     64\u001b[0m \u001b[1;33m\u001b[0m\u001b[0m\n\u001b[1;32m---> 65\u001b[1;33m         \u001b[1;32mreturn\u001b[0m \u001b[0mmethod\u001b[0m\u001b[1;33m(\u001b[0m\u001b[0mself\u001b[0m\u001b[1;33m,\u001b[0m \u001b[0mother\u001b[0m\u001b[1;33m)\u001b[0m\u001b[1;33m\u001b[0m\u001b[1;33m\u001b[0m\u001b[0m\n\u001b[0m\u001b[0;32m     66\u001b[0m \u001b[1;33m\u001b[0m\u001b[0m\n\u001b[0;32m     67\u001b[0m     \u001b[1;32mreturn\u001b[0m \u001b[0mnew_method\u001b[0m\u001b[1;33m\u001b[0m\u001b[1;33m\u001b[0m\u001b[0m\n",
      "\u001b[1;32m~\\anaconda3\\lib\\site-packages\\pandas\\core\\arraylike.py\u001b[0m in \u001b[0;36m__gt__\u001b[1;34m(self, other)\u001b[0m\n\u001b[0;32m     43\u001b[0m     \u001b[1;33m@\u001b[0m\u001b[0munpack_zerodim_and_defer\u001b[0m\u001b[1;33m(\u001b[0m\u001b[1;34m\"__gt__\"\u001b[0m\u001b[1;33m)\u001b[0m\u001b[1;33m\u001b[0m\u001b[1;33m\u001b[0m\u001b[0m\n\u001b[0;32m     44\u001b[0m     \u001b[1;32mdef\u001b[0m \u001b[0m__gt__\u001b[0m\u001b[1;33m(\u001b[0m\u001b[0mself\u001b[0m\u001b[1;33m,\u001b[0m \u001b[0mother\u001b[0m\u001b[1;33m)\u001b[0m\u001b[1;33m:\u001b[0m\u001b[1;33m\u001b[0m\u001b[1;33m\u001b[0m\u001b[0m\n\u001b[1;32m---> 45\u001b[1;33m         \u001b[1;32mreturn\u001b[0m \u001b[0mself\u001b[0m\u001b[1;33m.\u001b[0m\u001b[0m_cmp_method\u001b[0m\u001b[1;33m(\u001b[0m\u001b[0mother\u001b[0m\u001b[1;33m,\u001b[0m \u001b[0moperator\u001b[0m\u001b[1;33m.\u001b[0m\u001b[0mgt\u001b[0m\u001b[1;33m)\u001b[0m\u001b[1;33m\u001b[0m\u001b[1;33m\u001b[0m\u001b[0m\n\u001b[0m\u001b[0;32m     46\u001b[0m \u001b[1;33m\u001b[0m\u001b[0m\n\u001b[0;32m     47\u001b[0m     \u001b[1;33m@\u001b[0m\u001b[0munpack_zerodim_and_defer\u001b[0m\u001b[1;33m(\u001b[0m\u001b[1;34m\"__ge__\"\u001b[0m\u001b[1;33m)\u001b[0m\u001b[1;33m\u001b[0m\u001b[1;33m\u001b[0m\u001b[0m\n",
      "\u001b[1;32m~\\anaconda3\\lib\\site-packages\\pandas\\core\\arrays\\datetimelike.py\u001b[0m in \u001b[0;36m_cmp_method\u001b[1;34m(self, other, op)\u001b[0m\n\u001b[0;32m    932\u001b[0m             \u001b[0mother\u001b[0m \u001b[1;33m=\u001b[0m \u001b[0mself\u001b[0m\u001b[1;33m.\u001b[0m\u001b[0m_validate_comparison_value\u001b[0m\u001b[1;33m(\u001b[0m\u001b[0mother\u001b[0m\u001b[1;33m)\u001b[0m\u001b[1;33m\u001b[0m\u001b[1;33m\u001b[0m\u001b[0m\n\u001b[0;32m    933\u001b[0m         \u001b[1;32mexcept\u001b[0m \u001b[0mInvalidComparison\u001b[0m\u001b[1;33m:\u001b[0m\u001b[1;33m\u001b[0m\u001b[1;33m\u001b[0m\u001b[0m\n\u001b[1;32m--> 934\u001b[1;33m             \u001b[1;32mreturn\u001b[0m \u001b[0minvalid_comparison\u001b[0m\u001b[1;33m(\u001b[0m\u001b[0mself\u001b[0m\u001b[1;33m,\u001b[0m \u001b[0mother\u001b[0m\u001b[1;33m,\u001b[0m \u001b[0mop\u001b[0m\u001b[1;33m)\u001b[0m\u001b[1;33m\u001b[0m\u001b[1;33m\u001b[0m\u001b[0m\n\u001b[0m\u001b[0;32m    935\u001b[0m \u001b[1;33m\u001b[0m\u001b[0m\n\u001b[0;32m    936\u001b[0m         \u001b[0mdtype\u001b[0m \u001b[1;33m=\u001b[0m \u001b[0mgetattr\u001b[0m\u001b[1;33m(\u001b[0m\u001b[0mother\u001b[0m\u001b[1;33m,\u001b[0m \u001b[1;34m\"dtype\"\u001b[0m\u001b[1;33m,\u001b[0m \u001b[1;32mNone\u001b[0m\u001b[1;33m)\u001b[0m\u001b[1;33m\u001b[0m\u001b[1;33m\u001b[0m\u001b[0m\n",
      "\u001b[1;32m~\\anaconda3\\lib\\site-packages\\pandas\\core\\ops\\invalid.py\u001b[0m in \u001b[0;36minvalid_comparison\u001b[1;34m(left, right, op)\u001b[0m\n\u001b[0;32m     32\u001b[0m     \u001b[1;32melse\u001b[0m\u001b[1;33m:\u001b[0m\u001b[1;33m\u001b[0m\u001b[1;33m\u001b[0m\u001b[0m\n\u001b[0;32m     33\u001b[0m         \u001b[0mtyp\u001b[0m \u001b[1;33m=\u001b[0m \u001b[0mtype\u001b[0m\u001b[1;33m(\u001b[0m\u001b[0mright\u001b[0m\u001b[1;33m)\u001b[0m\u001b[1;33m.\u001b[0m\u001b[0m__name__\u001b[0m\u001b[1;33m\u001b[0m\u001b[1;33m\u001b[0m\u001b[0m\n\u001b[1;32m---> 34\u001b[1;33m         \u001b[1;32mraise\u001b[0m \u001b[0mTypeError\u001b[0m\u001b[1;33m(\u001b[0m\u001b[1;34mf\"Invalid comparison between dtype={left.dtype} and {typ}\"\u001b[0m\u001b[1;33m)\u001b[0m\u001b[1;33m\u001b[0m\u001b[1;33m\u001b[0m\u001b[0m\n\u001b[0m\u001b[0;32m     35\u001b[0m     \u001b[1;32mreturn\u001b[0m \u001b[0mres_values\u001b[0m\u001b[1;33m\u001b[0m\u001b[1;33m\u001b[0m\u001b[0m\n\u001b[0;32m     36\u001b[0m \u001b[1;33m\u001b[0m\u001b[0m\n",
      "\u001b[1;31mTypeError\u001b[0m: Invalid comparison between dtype=datetime64[ns] and date"
     ]
    }
   ],
   "source": [
    "# Grab all logins on Feb 4, 1970\n",
    "mask = (df_logins['login_time'] > datetime.date(1970, 2, 3)) & (df_logins['login_time'] <= datetime.date(1970, 2, 4))\n",
    "df_day = df_logins[mask]\n",
    "\n",
    "# Aggregate into 60-min intervals\n",
    "df = pd.DataFrame.copy(df_day) \n",
    "df.set_index('login_time', inplace=True) \n",
    "df['count'] = 1 \n",
    "df_60 = df.resample('60T').sum()\n",
    "\n",
    "# Plot\n",
    "plt.figure(figsize=(17,5));\n",
    "plt.plot(df_60);\n",
    "plt.xlabel('Hour of day (24:00 time)');\n",
    "plt.ylabel('Count');\n",
    "plt.title('60-min interval for 1970-2-4');"
   ]
  },
  {
   "cell_type": "markdown",
   "metadata": {},
   "source": [
    "Now we can picture the fluctuations. In this particular geographic location:\n",
    "\n",
    "Morning and evening have lowest user logins.\n",
    "Logins pick up around 9 AM (possible: rush hour to work) and peak right before noon (possible: rush hour to lunch).\n",
    "Then they drop off, although they may pick up slightly before midnight (possible: returning from \"going out\" hours)."
   ]
  },
  {
   "cell_type": "markdown",
   "metadata": {},
   "source": []
  },
  {
   "cell_type": "markdown",
   "metadata": {},
   "source": [
    "# Part 2: Experiment and metrics design"
   ]
  },
  {
   "cell_type": "markdown",
   "metadata": {},
   "source": [
    "The neighboring cities of Gotham and Metropolis have complementary circadian rhythms: on weekdays, Ultimate Gotham is most active at night, and Ultimate Metropolis is most active during the day. On weekends, there is reasonable activity in both cities.\n",
    "\n",
    "However, a toll bridge, with a two way toll, between the two cities causes driver partners to tend to be exclusive to each city. The Ultimate managers of city operations for the two cities have proposed an experiment to encourage driver partners to be available in both cities, by reimbursing all toll costs.z"
   ]
  },
  {
   "cell_type": "markdown",
   "metadata": {},
   "source": [
    "1. What would you choose as the key measure of success of this experiment in encouraging driver partners to serve both cities, and why would you choose this metric?"
   ]
  },
  {
   "cell_type": "markdown",
   "metadata": {},
   "source": [
    "Determine the change in pre- and post-reimbursement number of times driver has crossed the bridge, since this will indicate whether there is an increase, decrease, or no change in how often driver partners served both cities after the experiment.\n",
    "\n",
    "A significant post-reimbursement increase in driver crossings supports the experiment's success - driver partners tended to serve both cities more often after the experiment's introduction."
   ]
  },
  {
   "cell_type": "markdown",
   "metadata": {},
   "source": [
    "2. Describe a practical experiment you would design to compare the effectiveness of the proposed change in relation to the key measure of success. Please provide details on:"
   ]
  },
  {
   "cell_type": "markdown",
   "metadata": {},
   "source": [
    "Implementing experiment"
   ]
  },
  {
   "cell_type": "markdown",
   "metadata": {},
   "source": [
    "Conduct a one-sided, 1-sample z-test, assuming sample size > 30 drivers. Compare number driver bridge crossings (where a crossing = crossing the bridge + serving crossed-to city) pre- and post-reimbursement.\n",
    "\n",
    ": No difference in driver bridge crossings, after toll reimbursement experiment.\n",
    ": Increase in driver bridge crossings, after toll reimbursement experiment.\n",
    "Null hypothesis distribution is simply the distribution of driver crossings before toll reimbursement experiment.\n",
    "\n",
    "Calculate z-score of average frequency of drivers serving both cities, post-reimbursement experiment.\n",
    "Set =0.05. Determine if z-score's p-value falls below this significance threshold."
   ]
  },
  {
   "cell_type": "markdown",
   "metadata": {},
   "source": [
    "Interpreting results\n"
   ]
  },
  {
   "cell_type": "markdown",
   "metadata": {},
   "source": [
    " If p-value < 0.05, then the post-reimbursement crossings are so high that it's unlikely to occur under the null hypothesis of pre-reimbursement crossings. This result would support a significant increase in driver bridge crossings after the toll reimbursement is introduced, indicating that this policy was a success."
   ]
  },
  {
   "cell_type": "markdown",
   "metadata": {},
   "source": [
    "Caveats & recommendations"
   ]
  },
  {
   "cell_type": "markdown",
   "metadata": {},
   "source": [
    "However, the caveat is that  significance levels are set arbitrarly and p-values fluctuate depending on sample size. So depending on how wide of a margin the post-reimbursement increase is, our experiment could either support or reject the policy.\n",
    "\n",
    "As a result, I recommend only considering the policy a success if the margin is wide enough (and p-value far below 0.05) that it is obvious that a significant post-reimbursement increase has occurred even in the midst of the aforementioned fluctuations."
   ]
  },
  {
   "cell_type": "markdown",
   "metadata": {},
   "source": [
    "# Part 3: Predictive modeling"
   ]
  },
  {
   "cell_type": "code",
   "execution_count": 17,
   "metadata": {},
   "outputs": [
    {
     "name": "stdout",
     "output_type": "stream",
     "text": [
      "Number of users:  50000\n"
     ]
    },
    {
     "data": {
      "text/html": [
       "<div>\n",
       "<style scoped>\n",
       "    .dataframe tbody tr th:only-of-type {\n",
       "        vertical-align: middle;\n",
       "    }\n",
       "\n",
       "    .dataframe tbody tr th {\n",
       "        vertical-align: top;\n",
       "    }\n",
       "\n",
       "    .dataframe thead th {\n",
       "        text-align: right;\n",
       "    }\n",
       "</style>\n",
       "<table border=\"1\" class=\"dataframe\">\n",
       "  <thead>\n",
       "    <tr style=\"text-align: right;\">\n",
       "      <th></th>\n",
       "      <th>city</th>\n",
       "      <th>trips_in_first_30_days</th>\n",
       "      <th>signup_date</th>\n",
       "      <th>avg_rating_of_driver</th>\n",
       "      <th>avg_surge</th>\n",
       "      <th>last_trip_date</th>\n",
       "      <th>phone</th>\n",
       "      <th>surge_pct</th>\n",
       "      <th>ultimate_black_user</th>\n",
       "      <th>weekday_pct</th>\n",
       "      <th>avg_dist</th>\n",
       "      <th>avg_rating_by_driver</th>\n",
       "    </tr>\n",
       "  </thead>\n",
       "  <tbody>\n",
       "    <tr>\n",
       "      <th>0</th>\n",
       "      <td>King's Landing</td>\n",
       "      <td>4</td>\n",
       "      <td>2014-01-25</td>\n",
       "      <td>4.7</td>\n",
       "      <td>1.10</td>\n",
       "      <td>2014-06-17</td>\n",
       "      <td>iPhone</td>\n",
       "      <td>15.4</td>\n",
       "      <td>True</td>\n",
       "      <td>46.2</td>\n",
       "      <td>3.67</td>\n",
       "      <td>5.0</td>\n",
       "    </tr>\n",
       "    <tr>\n",
       "      <th>1</th>\n",
       "      <td>Astapor</td>\n",
       "      <td>0</td>\n",
       "      <td>2014-01-29</td>\n",
       "      <td>5.0</td>\n",
       "      <td>1.00</td>\n",
       "      <td>2014-05-05</td>\n",
       "      <td>Android</td>\n",
       "      <td>0.0</td>\n",
       "      <td>False</td>\n",
       "      <td>50.0</td>\n",
       "      <td>8.26</td>\n",
       "      <td>5.0</td>\n",
       "    </tr>\n",
       "    <tr>\n",
       "      <th>2</th>\n",
       "      <td>Astapor</td>\n",
       "      <td>3</td>\n",
       "      <td>2014-01-06</td>\n",
       "      <td>4.3</td>\n",
       "      <td>1.00</td>\n",
       "      <td>2014-01-07</td>\n",
       "      <td>iPhone</td>\n",
       "      <td>0.0</td>\n",
       "      <td>False</td>\n",
       "      <td>100.0</td>\n",
       "      <td>0.77</td>\n",
       "      <td>5.0</td>\n",
       "    </tr>\n",
       "    <tr>\n",
       "      <th>3</th>\n",
       "      <td>King's Landing</td>\n",
       "      <td>9</td>\n",
       "      <td>2014-01-10</td>\n",
       "      <td>4.6</td>\n",
       "      <td>1.14</td>\n",
       "      <td>2014-06-29</td>\n",
       "      <td>iPhone</td>\n",
       "      <td>20.0</td>\n",
       "      <td>True</td>\n",
       "      <td>80.0</td>\n",
       "      <td>2.36</td>\n",
       "      <td>4.9</td>\n",
       "    </tr>\n",
       "    <tr>\n",
       "      <th>4</th>\n",
       "      <td>Winterfell</td>\n",
       "      <td>14</td>\n",
       "      <td>2014-01-27</td>\n",
       "      <td>4.4</td>\n",
       "      <td>1.19</td>\n",
       "      <td>2014-03-15</td>\n",
       "      <td>Android</td>\n",
       "      <td>11.8</td>\n",
       "      <td>False</td>\n",
       "      <td>82.4</td>\n",
       "      <td>3.13</td>\n",
       "      <td>4.9</td>\n",
       "    </tr>\n",
       "  </tbody>\n",
       "</table>\n",
       "</div>"
      ],
      "text/plain": [
       "             city  trips_in_first_30_days signup_date  avg_rating_of_driver  \\\n",
       "0  King's Landing                       4  2014-01-25                   4.7   \n",
       "1         Astapor                       0  2014-01-29                   5.0   \n",
       "2         Astapor                       3  2014-01-06                   4.3   \n",
       "3  King's Landing                       9  2014-01-10                   4.6   \n",
       "4      Winterfell                      14  2014-01-27                   4.4   \n",
       "\n",
       "   avg_surge last_trip_date    phone  surge_pct  ultimate_black_user  \\\n",
       "0       1.10     2014-06-17   iPhone       15.4                 True   \n",
       "1       1.00     2014-05-05  Android        0.0                False   \n",
       "2       1.00     2014-01-07   iPhone        0.0                False   \n",
       "3       1.14     2014-06-29   iPhone       20.0                 True   \n",
       "4       1.19     2014-03-15  Android       11.8                False   \n",
       "\n",
       "   weekday_pct  avg_dist  avg_rating_by_driver  \n",
       "0         46.2      3.67                   5.0  \n",
       "1         50.0      8.26                   5.0  \n",
       "2        100.0      0.77                   5.0  \n",
       "3         80.0      2.36                   4.9  \n",
       "4         82.4      3.13                   4.9  "
      ]
     },
     "execution_count": 17,
     "metadata": {},
     "output_type": "execute_result"
    }
   ],
   "source": [
    "df_users = json.load(open('ultimate_data_challenge.json')) # load json (produces dict)\n",
    "df_users = pd.DataFrame(df_users) # convert json dict to dataframe\n",
    "print('Number of users: ', len(df_users))\n",
    "df_users.head()"
   ]
  },
  {
   "cell_type": "markdown",
   "metadata": {},
   "source": [
    "# 1. Data cleaning, exploratory analysis, visualizations"
   ]
  },
  {
   "cell_type": "markdown",
   "metadata": {},
   "source": [
    "Perform any cleaning, exploratory analysis, and/or visualizations to use the provided data for this analysis (a few sentences/plots describing your approach will suffice). What fraction of the observed users were retained?"
   ]
  },
  {
   "cell_type": "markdown",
   "metadata": {},
   "source": [
    "Get cutoff for \"retained users\""
   ]
  },
  {
   "cell_type": "markdown",
   "metadata": {},
   "source": [
    "Users are retained if, at the time of pulling data, they were active in the preceding 30 days."
   ]
  },
  {
   "cell_type": "code",
   "execution_count": 18,
   "metadata": {},
   "outputs": [
    {
     "name": "stdout",
     "output_type": "stream",
     "text": [
      "Cut-off for 'retained users':  2014-06-01 00:00:00\n"
     ]
    }
   ],
   "source": [
    "from datetime import timedelta\n",
    "from dateutil import parser\n",
    "\n",
    "# Get latest date that data was pulled\n",
    "df_users['last_trip_date'] = pd.to_datetime(df_users['last_trip_date']) # convert 'last_trip_date' column to datetime\n",
    "date_pulled = max(df_users['last_trip_date']) # get max = approximation of when data was pulled\n",
    "\n",
    "# Get cutoff for earliest active date to meet \"retained\" criteria\n",
    "retain_cutoff = date_pulled - timedelta(days=30)\n",
    "\n",
    "print(\"Cut-off for 'retained users': \", retain_cutoff)"
   ]
  },
  {
   "cell_type": "markdown",
   "metadata": {},
   "source": [
    "### Get fraction of observed users retained"
   ]
  },
  {
   "cell_type": "code",
   "execution_count": 19,
   "metadata": {},
   "outputs": [
    {
     "name": "stdout",
     "output_type": "stream",
     "text": [
      "Fraction of observed users retained:  0.37608\n"
     ]
    }
   ],
   "source": [
    "df_retained = df_users[df_users['last_trip_date'] >= retain_cutoff]\n",
    "print(\"Fraction of observed users retained: \", len(df_retained) / len(df_users))"
   ]
  },
  {
   "cell_type": "markdown",
   "metadata": {},
   "source": [
    "# 2. Build a predictive model"
   ]
  },
  {
   "cell_type": "markdown",
   "metadata": {},
   "source": [
    "Build a predictive model to help Ultimate determine whether or not a user will be active in their 6th month on the system. Discuss why you chose your approach, what alternatives you considered, and any concerns you have. How valid is your model? Include any key indicators of model performance."
   ]
  },
  {
   "cell_type": "markdown",
   "metadata": {},
   "source": [
    "### Get users still active in their 6th month in system"
   ]
  },
  {
   "cell_type": "code",
   "execution_count": 20,
   "metadata": {},
   "outputs": [
    {
     "name": "stdout",
     "output_type": "stream",
     "text": [
      "Number of active users:  11694\n",
      "Number of inactive users:  38306\n",
      "Percent active users:  0.23388\n"
     ]
    }
   ],
   "source": [
    "# Set up\n",
    "df_users['signup_date'] = pd.to_datetime(df_users['signup_date']) # convert dates to datetime objects\n",
    "month_6 = df_users['signup_date'] + timedelta(days=151) # set minimum date of last ride to qualitfy as \"active in their 6th mo\"\n",
    "\n",
    "# Get users active in their 6th month in system\n",
    "active_idx = [idx for idx, s in enumerate(df_users['last_trip_date']) if s > month_6[idx]] # their their indices in database\n",
    "\n",
    "# Append data to our database (useful for data viz later)\n",
    "df_users['active'] = 0 # set default to 0\n",
    "df_users.loc[active_idx, 'active'] = 1 # set active users to 1\n",
    "\n",
    "print(\"Number of active users: \", len(active_idx))\n",
    "print(\"Number of inactive users: \", len(df_users) - len(active_idx))\n",
    "print(\"Percent active users: \", len(active_idx)/len(df_users))"
   ]
  },
  {
   "cell_type": "markdown",
   "metadata": {},
   "source": [
    "Only ~23% of users are active. We probably can't rely on accuracy alone for determining how effective our model is - rather, will need metrics such as % false positives and false negatives."
   ]
  },
  {
   "cell_type": "markdown",
   "metadata": {},
   "source": [
    "## 2.1 Data cleaning, preprocessing, & EDA"
   ]
  },
  {
   "cell_type": "markdown",
   "metadata": {},
   "source": [
    "Clean data/fill in missing data, feature scaling, drop irrelevant features, etc while inspecting the data."
   ]
  },
  {
   "cell_type": "markdown",
   "metadata": {},
   "source": [
    "### 2.1.1. Convert columns w/ string values to int"
   ]
  },
  {
   "cell_type": "markdown",
   "metadata": {},
   "source": [
    "Inspect which columns consist of string values."
   ]
  },
  {
   "cell_type": "code",
   "execution_count": 22,
   "metadata": {},
   "outputs": [
    {
     "data": {
      "text/html": [
       "<div>\n",
       "<style scoped>\n",
       "    .dataframe tbody tr th:only-of-type {\n",
       "        vertical-align: middle;\n",
       "    }\n",
       "\n",
       "    .dataframe tbody tr th {\n",
       "        vertical-align: top;\n",
       "    }\n",
       "\n",
       "    .dataframe thead th {\n",
       "        text-align: right;\n",
       "    }\n",
       "</style>\n",
       "<table border=\"1\" class=\"dataframe\">\n",
       "  <thead>\n",
       "    <tr style=\"text-align: right;\">\n",
       "      <th></th>\n",
       "      <th>city</th>\n",
       "      <th>trips_in_first_30_days</th>\n",
       "      <th>signup_date</th>\n",
       "      <th>avg_rating_of_driver</th>\n",
       "      <th>avg_surge</th>\n",
       "      <th>last_trip_date</th>\n",
       "      <th>phone</th>\n",
       "      <th>surge_pct</th>\n",
       "      <th>ultimate_black_user</th>\n",
       "      <th>weekday_pct</th>\n",
       "      <th>avg_dist</th>\n",
       "      <th>avg_rating_by_driver</th>\n",
       "      <th>active</th>\n",
       "    </tr>\n",
       "  </thead>\n",
       "  <tbody>\n",
       "    <tr>\n",
       "      <th>0</th>\n",
       "      <td>King's Landing</td>\n",
       "      <td>4</td>\n",
       "      <td>2014-01-25</td>\n",
       "      <td>4.7</td>\n",
       "      <td>1.10</td>\n",
       "      <td>2014-06-17</td>\n",
       "      <td>iPhone</td>\n",
       "      <td>15.4</td>\n",
       "      <td>True</td>\n",
       "      <td>46.2</td>\n",
       "      <td>3.67</td>\n",
       "      <td>5.0</td>\n",
       "      <td>0</td>\n",
       "    </tr>\n",
       "    <tr>\n",
       "      <th>1</th>\n",
       "      <td>Astapor</td>\n",
       "      <td>0</td>\n",
       "      <td>2014-01-29</td>\n",
       "      <td>5.0</td>\n",
       "      <td>1.00</td>\n",
       "      <td>2014-05-05</td>\n",
       "      <td>Android</td>\n",
       "      <td>0.0</td>\n",
       "      <td>False</td>\n",
       "      <td>50.0</td>\n",
       "      <td>8.26</td>\n",
       "      <td>5.0</td>\n",
       "      <td>0</td>\n",
       "    </tr>\n",
       "    <tr>\n",
       "      <th>2</th>\n",
       "      <td>Astapor</td>\n",
       "      <td>3</td>\n",
       "      <td>2014-01-06</td>\n",
       "      <td>4.3</td>\n",
       "      <td>1.00</td>\n",
       "      <td>2014-01-07</td>\n",
       "      <td>iPhone</td>\n",
       "      <td>0.0</td>\n",
       "      <td>False</td>\n",
       "      <td>100.0</td>\n",
       "      <td>0.77</td>\n",
       "      <td>5.0</td>\n",
       "      <td>0</td>\n",
       "    </tr>\n",
       "    <tr>\n",
       "      <th>3</th>\n",
       "      <td>King's Landing</td>\n",
       "      <td>9</td>\n",
       "      <td>2014-01-10</td>\n",
       "      <td>4.6</td>\n",
       "      <td>1.14</td>\n",
       "      <td>2014-06-29</td>\n",
       "      <td>iPhone</td>\n",
       "      <td>20.0</td>\n",
       "      <td>True</td>\n",
       "      <td>80.0</td>\n",
       "      <td>2.36</td>\n",
       "      <td>4.9</td>\n",
       "      <td>1</td>\n",
       "    </tr>\n",
       "    <tr>\n",
       "      <th>4</th>\n",
       "      <td>Winterfell</td>\n",
       "      <td>14</td>\n",
       "      <td>2014-01-27</td>\n",
       "      <td>4.4</td>\n",
       "      <td>1.19</td>\n",
       "      <td>2014-03-15</td>\n",
       "      <td>Android</td>\n",
       "      <td>11.8</td>\n",
       "      <td>False</td>\n",
       "      <td>82.4</td>\n",
       "      <td>3.13</td>\n",
       "      <td>4.9</td>\n",
       "      <td>0</td>\n",
       "    </tr>\n",
       "  </tbody>\n",
       "</table>\n",
       "</div>"
      ],
      "text/plain": [
       "             city  trips_in_first_30_days signup_date  avg_rating_of_driver  \\\n",
       "0  King's Landing                       4  2014-01-25                   4.7   \n",
       "1         Astapor                       0  2014-01-29                   5.0   \n",
       "2         Astapor                       3  2014-01-06                   4.3   \n",
       "3  King's Landing                       9  2014-01-10                   4.6   \n",
       "4      Winterfell                      14  2014-01-27                   4.4   \n",
       "\n",
       "   avg_surge last_trip_date    phone  surge_pct  ultimate_black_user  \\\n",
       "0       1.10     2014-06-17   iPhone       15.4                 True   \n",
       "1       1.00     2014-05-05  Android        0.0                False   \n",
       "2       1.00     2014-01-07   iPhone        0.0                False   \n",
       "3       1.14     2014-06-29   iPhone       20.0                 True   \n",
       "4       1.19     2014-03-15  Android       11.8                False   \n",
       "\n",
       "   weekday_pct  avg_dist  avg_rating_by_driver  active  \n",
       "0         46.2      3.67                   5.0       0  \n",
       "1         50.0      8.26                   5.0       0  \n",
       "2        100.0      0.77                   5.0       0  \n",
       "3         80.0      2.36                   4.9       1  \n",
       "4         82.4      3.13                   4.9       0  "
      ]
     },
     "execution_count": 22,
     "metadata": {},
     "output_type": "execute_result"
    }
   ],
   "source": [
    "df_users.head()"
   ]
  },
  {
   "cell_type": "markdown",
   "metadata": {},
   "source": [
    "Check number of unique values in each of these columns."
   ]
  },
  {
   "cell_type": "code",
   "execution_count": 23,
   "metadata": {},
   "outputs": [
    {
     "name": "stdout",
     "output_type": "stream",
     "text": [
      "city:  [\"King's Landing\" 'Astapor' 'Winterfell']\n",
      "phone:  ['iPhone' 'Android' None]\n",
      "ultimate_black_user:  [ True False]\n"
     ]
    }
   ],
   "source": [
    "print(\"city: \", df_users['city'].unique())\n",
    "print(\"phone: \", df_users['phone'].unique())\n",
    "print(\"ultimate_black_user: \", df_users['ultimate_black_user'].unique())"
   ]
  },
  {
   "cell_type": "markdown",
   "metadata": {},
   "source": [
    "Convert to int."
   ]
  },
  {
   "cell_type": "markdown",
   "metadata": {},
   "source": [
    "city: {'Winterfell': 1, 'Astapor': 2, \"King's Landing\": 3}"
   ]
  },
  {
   "cell_type": "markdown",
   "metadata": {},
   "source": [
    "phone: {\"iPhone\": 1, \"Android\": 2, \"None\": 0}"
   ]
  },
  {
   "cell_type": "markdown",
   "metadata": {},
   "source": [
    "ultimate_black_user: {\"True\": 1, \"False\": 0}"
   ]
  },
  {
   "cell_type": "code",
   "execution_count": 27,
   "metadata": {},
   "outputs": [],
   "source": [
    "# Convert cities\n",
    "cities = {'Winterfell': 1, 'Astapor': 2, \"King's Landing\": 3}\n",
    "df_users['city'] = df_users['city'].map(lambda x: cities[x])\n",
    "\n",
    "# Convert phones\n",
    "phones = {\"iPhone\": 1, \"Android\": 2}\n",
    "df_users['phone'] = df_users['phone'].map(lambda i: phones[i] if i is not None else 0)\n",
    "\n",
    "# Convert ultimate black status\n",
    "\n",
    "df_users['ultimate_black_user'] = df_users['ultimate_black_user'].map(lambda b: 1 if b == True else 0)"
   ]
  },
  {
   "cell_type": "markdown",
   "metadata": {},
   "source": [
    "### 2.1.2 Replace missing values"
   ]
  },
  {
   "cell_type": "markdown",
   "metadata": {},
   "source": [
    "There's missing values in some of the columns. To deal with these missing values, we'll replace them with the column's mean."
   ]
  },
  {
   "cell_type": "code",
   "execution_count": 28,
   "metadata": {},
   "outputs": [
    {
     "name": "stdout",
     "output_type": "stream",
     "text": [
      "<class 'pandas.core.frame.DataFrame'>\n",
      "RangeIndex: 50000 entries, 0 to 49999\n",
      "Data columns (total 13 columns):\n",
      " #   Column                  Non-Null Count  Dtype         \n",
      "---  ------                  --------------  -----         \n",
      " 0   city                    50000 non-null  int64         \n",
      " 1   trips_in_first_30_days  50000 non-null  int64         \n",
      " 2   signup_date             50000 non-null  datetime64[ns]\n",
      " 3   avg_rating_of_driver    41878 non-null  float64       \n",
      " 4   avg_surge               50000 non-null  float64       \n",
      " 5   last_trip_date          50000 non-null  datetime64[ns]\n",
      " 6   phone                   50000 non-null  int64         \n",
      " 7   surge_pct               50000 non-null  float64       \n",
      " 8   ultimate_black_user     50000 non-null  int64         \n",
      " 9   weekday_pct             50000 non-null  float64       \n",
      " 10  avg_dist                50000 non-null  float64       \n",
      " 11  avg_rating_by_driver    49799 non-null  float64       \n",
      " 12  active                  50000 non-null  int64         \n",
      "dtypes: datetime64[ns](2), float64(6), int64(5)\n",
      "memory usage: 5.0 MB\n"
     ]
    }
   ],
   "source": [
    "df_users.info()"
   ]
  },
  {
   "cell_type": "code",
   "execution_count": 29,
   "metadata": {},
   "outputs": [],
   "source": [
    "df_users['avg_rating_by_driver'].fillna(df_users['avg_rating_by_driver'].mean(), inplace=True)\n",
    "df_users['avg_rating_of_driver'].fillna(df_users['avg_rating_of_driver'].mean(), inplace=True)"
   ]
  },
  {
   "cell_type": "markdown",
   "metadata": {},
   "source": [
    "### 2.1.3 Determine meaningful features to keep"
   ]
  },
  {
   "cell_type": "markdown",
   "metadata": {},
   "source": [
    "Since some of our features are encoded differently and others might be inter-related, we should determine which features to throw out of our model to simplify it and minimize confounding."
   ]
  },
  {
   "cell_type": "markdown",
   "metadata": {},
   "source": [
    "### Inter-feature correlations"
   ]
  },
  {
   "cell_type": "markdown",
   "metadata": {},
   "source": [
    "Make sure none of our features are correlated with one another. For convenience, however, our correlation matrix also includes a row/column for 'active' users - this allows us to easily visualize whether any individual features strongly predict 'active' users."
   ]
  },
  {
   "cell_type": "code",
   "execution_count": 32,
   "metadata": {},
   "outputs": [
    {
     "data": {
      "image/png": "[encoded data removed]",
      "text/plain": [
       "<Figure size 432x288 with 2 Axes>"
      ]
     },
     "metadata": {},
     "output_type": "display_data"
    }
   ],
   "source": [
    "sns.heatmap(df_users.corr(), cmap=\"PiYG\");"
   ]
  },
  {
   "cell_type": "markdown",
   "metadata": {},
   "source": [
    "Based on these results, we throw out:"
   ]
  },
  {
   "cell_type": "markdown",
   "metadata": {},
   "source": [
    "<b>'surge_pct'</b> and <b>'avg_surge'</b>: The only features w/ high inter-correlation are 'surge_pct' and 'avg_surge', which makes sense. Users who tend to take trips during surge will have higher % trips w/ surge ('surge_pct') and higher average surge ('avg_surge'). Since neither are strongly correlated with 'active' users, we drop these to avoid confounding our model."
   ]
  },
  {
   "cell_type": "markdown",
   "metadata": {},
   "source": [
    "'phone': Very low correlation (~0) with 'active' users. Additionally, it might confound our model since its values are encoded by an arbitrary binary conversion and most of our features are continuous."
   ]
  },
  {
   "cell_type": "markdown",
   "metadata": {},
   "source": [
    "### Inspect select features more closely"
   ]
  },
  {
   "cell_type": "markdown",
   "metadata": {},
   "source": [
    "There are a few discrete features we're unsure about: 'city' and 'ultimate_black_user'. We'd like to throw them out if they don't seem significant in contributing to the prediction of 'active' user (since discrete features might confound our model of majority continuous features). Let's inspect them more closely."
   ]
  },
  {
   "cell_type": "code",
   "execution_count": 33,
   "metadata": {},
   "outputs": [
    {
     "data": {
      "image/png": "[encoded data removed]",
      "text/plain": [
       "<Figure size 720x216 with 2 Axes>"
      ]
     },
     "metadata": {},
     "output_type": "display_data"
    }
   ],
   "source": [
    "fig, (ax1, ax2) = plt.subplots(nrows=1, ncols=2, figsize=(10,3))\n",
    "\n",
    "# % active users by city\n",
    "\n",
    "df1 = df_users[df_users['city']==1]\n",
    "df2 = df_users[df_users['city']==2]\n",
    "df3 = df_users[df_users['city']==3]\n",
    "\n",
    "active1 = len(df1[df1['active']==1])/len(df1)\n",
    "active2 = len(df2[df2['active']==1])/len(df2)\n",
    "active3 = len(df3[df3['active']==1])/len(df3)\n",
    "\n",
    "g = sns.barplot(x = ['winterfell', 'astapor', 'kings landing'], y = [active1, active2, active3], ax=ax1);\n",
    "g.set_title('% active users in each city');\n",
    "\n",
    "# % active users by \"ultimate black\" status\n",
    "\n",
    "df1 = df_users[df_users['ultimate_black_user']==1]\n",
    "df2 = df_users[df_users['ultimate_black_user']==0]\n",
    "\n",
    "active1 = len(df1[df1['active']==1])/len(df1)\n",
    "active2 = len(df2[df2['active']==1])/len(df2)\n",
    "\n",
    "g = sns.barplot(x = ['yes', 'no'], y = [active1, active2], ax=ax2);\n",
    "g.set_title(\"% active users that are 'ultimate black' (yes/no)\");"
   ]
  },
  {
   "cell_type": "markdown",
   "metadata": {},
   "source": [
    "They still might be worth keeping - there seem to be differences, although whether these differences are significant remains unclear."
   ]
  },
  {
   "cell_type": "markdown",
   "metadata": {},
   "source": [
    "### 2.1.4 Drop selected features"
   ]
  },
  {
   "cell_type": "markdown",
   "metadata": {},
   "source": [
    "We've determined that we should drop 'surge_pct', 'avg_surge', and 'phone'."
   ]
  },
  {
   "cell_type": "markdown",
   "metadata": {},
   "source": [
    "We also would like to drop 'last_trip_date' and 'signup_date', since these were used to determine whether the user was active and may no longer be useful. We might be interested in the # of days between last trip & signup date, but this is susceptible to a lot of confounding factors so for the sake of simplicity we just drop it."
   ]
  },
  {
   "cell_type": "code",
   "execution_count": 34,
   "metadata": {},
   "outputs": [],
   "source": [
    "df_users.drop(['surge_pct', 'avg_surge', 'phone', 'last_trip_date', 'signup_date'], inplace=True, axis=1)"
   ]
  },
  {
   "cell_type": "markdown",
   "metadata": {},
   "source": [
    "Here is our dataset now:"
   ]
  },
  {
   "cell_type": "code",
   "execution_count": 35,
   "metadata": {},
   "outputs": [
    {
     "data": {
      "text/html": [
       "<div>\n",
       "<style scoped>\n",
       "    .dataframe tbody tr th:only-of-type {\n",
       "        vertical-align: middle;\n",
       "    }\n",
       "\n",
       "    .dataframe tbody tr th {\n",
       "        vertical-align: top;\n",
       "    }\n",
       "\n",
       "    .dataframe thead th {\n",
       "        text-align: right;\n",
       "    }\n",
       "</style>\n",
       "<table border=\"1\" class=\"dataframe\">\n",
       "  <thead>\n",
       "    <tr style=\"text-align: right;\">\n",
       "      <th></th>\n",
       "      <th>city</th>\n",
       "      <th>trips_in_first_30_days</th>\n",
       "      <th>avg_rating_of_driver</th>\n",
       "      <th>ultimate_black_user</th>\n",
       "      <th>weekday_pct</th>\n",
       "      <th>avg_dist</th>\n",
       "      <th>avg_rating_by_driver</th>\n",
       "      <th>active</th>\n",
       "    </tr>\n",
       "  </thead>\n",
       "  <tbody>\n",
       "    <tr>\n",
       "      <th>0</th>\n",
       "      <td>3</td>\n",
       "      <td>4</td>\n",
       "      <td>4.7</td>\n",
       "      <td>1</td>\n",
       "      <td>46.2</td>\n",
       "      <td>3.67</td>\n",
       "      <td>5.0</td>\n",
       "      <td>0</td>\n",
       "    </tr>\n",
       "    <tr>\n",
       "      <th>1</th>\n",
       "      <td>2</td>\n",
       "      <td>0</td>\n",
       "      <td>5.0</td>\n",
       "      <td>0</td>\n",
       "      <td>50.0</td>\n",
       "      <td>8.26</td>\n",
       "      <td>5.0</td>\n",
       "      <td>0</td>\n",
       "    </tr>\n",
       "    <tr>\n",
       "      <th>2</th>\n",
       "      <td>2</td>\n",
       "      <td>3</td>\n",
       "      <td>4.3</td>\n",
       "      <td>0</td>\n",
       "      <td>100.0</td>\n",
       "      <td>0.77</td>\n",
       "      <td>5.0</td>\n",
       "      <td>0</td>\n",
       "    </tr>\n",
       "    <tr>\n",
       "      <th>3</th>\n",
       "      <td>3</td>\n",
       "      <td>9</td>\n",
       "      <td>4.6</td>\n",
       "      <td>1</td>\n",
       "      <td>80.0</td>\n",
       "      <td>2.36</td>\n",
       "      <td>4.9</td>\n",
       "      <td>1</td>\n",
       "    </tr>\n",
       "    <tr>\n",
       "      <th>4</th>\n",
       "      <td>1</td>\n",
       "      <td>14</td>\n",
       "      <td>4.4</td>\n",
       "      <td>0</td>\n",
       "      <td>82.4</td>\n",
       "      <td>3.13</td>\n",
       "      <td>4.9</td>\n",
       "      <td>0</td>\n",
       "    </tr>\n",
       "  </tbody>\n",
       "</table>\n",
       "</div>"
      ],
      "text/plain": [
       "   city  trips_in_first_30_days  avg_rating_of_driver  ultimate_black_user  \\\n",
       "0     3                       4                   4.7                    1   \n",
       "1     2                       0                   5.0                    0   \n",
       "2     2                       3                   4.3                    0   \n",
       "3     3                       9                   4.6                    1   \n",
       "4     1                      14                   4.4                    0   \n",
       "\n",
       "   weekday_pct  avg_dist  avg_rating_by_driver  active  \n",
       "0         46.2      3.67                   5.0       0  \n",
       "1         50.0      8.26                   5.0       0  \n",
       "2        100.0      0.77                   5.0       0  \n",
       "3         80.0      2.36                   4.9       1  \n",
       "4         82.4      3.13                   4.9       0  "
      ]
     },
     "execution_count": 35,
     "metadata": {},
     "output_type": "execute_result"
    }
   ],
   "source": [
    "df_users.head()"
   ]
  },
  {
   "cell_type": "markdown",
   "metadata": {},
   "source": [
    "### 2.1.5 Scale features"
   ]
  },
  {
   "cell_type": "markdown",
   "metadata": {},
   "source": [
    "Inspect distribution of data, determine which feature scaler is best to use, then scale features."
   ]
  },
  {
   "cell_type": "markdown",
   "metadata": {},
   "source": [
    "### Check distribution of features."
   ]
  },
  {
   "cell_type": "code",
   "execution_count": 36,
   "metadata": {},
   "outputs": [
    {
     "data": {
      "image/png": "[encoded data removed]",
      "text/plain": [
       "<Figure size 1224x576 with 9 Axes>"
      ]
     },
     "metadata": {},
     "output_type": "display_data"
    }
   ],
   "source": [
    "df_users.hist(sharex=False, sharey=False, xlabelsize=1, figsize=(17,8));"
   ]
  },
  {
   "cell_type": "markdown",
   "metadata": {},
   "source": [
    "### Which feature scaler?"
   ]
  },
  {
   "cell_type": "markdown",
   "metadata": {},
   "source": [
    "There are a couple of feature scalers we could use."
   ]
  },
  {
   "cell_type": "markdown",
   "metadata": {},
   "source": [
    "<b>Standard scaler</b>. Assumes feature is normally distributed, scales them to center around 0 and standard deviation of 1. However, from the above plot we can see almost none of our features are normally distributed (especially our discretely coded features)\n"
   ]
  },
  {
   "cell_type": "markdown",
   "metadata": {},
   "source": [
    "<b>Min-max scaler</b>. Shrinks range of each feature to (0,1) or (-1,1) if there are negative values. Works better for data that aren't normally distributed."
   ]
  },
  {
   "cell_type": "markdown",
   "metadata": {},
   "source": [
    "So we'll use MinMaxScaler."
   ]
  },
  {
   "cell_type": "code",
   "execution_count": 38,
   "metadata": {},
   "outputs": [],
   "source": [
    "from sklearn.preprocessing import MinMaxScaler\n",
    "\n",
    "x = df_users.drop('active', axis=1)\n",
    "y = df_users['active']\n",
    "\n",
    "scaler = MinMaxScaler()\n",
    "scaler.fit(x)\n",
    "x = scaler.fit_transform(x)\n"
   ]
  },
  {
   "cell_type": "markdown",
   "metadata": {},
   "source": [
    "### 2.2 Modeling"
   ]
  },
  {
   "cell_type": "markdown",
   "metadata": {},
   "source": [
    "We are trying to predict whether a user will still be active or not after 6 months in the system - i.e. a binary classifier. We'll first try a few different classifiers, pick the best-performing one, then optimize hyperparameters to improve performance."
   ]
  },
  {
   "cell_type": "markdown",
   "metadata": {},
   "source": [
    "### 2.2.1 Determining cross-validation scores: importance of FP"
   ]
  },
  {
   "cell_type": "markdown",
   "metadata": {},
   "source": [
    "<b>Priority for Ultimate's business'</b>: Ultimate's priority is probably to detect whether a customer will churn. The cost invested in preventing them from churning probably involves increased marketing and alerts to prevent churning behavior."
   ]
  },
  {
   "cell_type": "markdown",
   "metadata": {},
   "source": [
    "<b>False positives</b>: As a result, we are probably more concerned about false positives rather than false negatives - it is safer to target ads to anyone remotely at-risk for churning. The worst that could happen is that an 'active' user is incorrectly labeled as 'inactive' and therefore receives targeted ads that an at-risk churner would receive (i.e. because they were a false negative).\n",
    "\n",
    "Subjectively, we consider that acceptable and not likely to affect 'active' users - although would recommend monitoring whether it does in the future, since this is a crucial assumption.\n",
    "\n",
    "In short, <b>we want to minimize our rate of false positives</b></i>, i.e. minimize # of churners (not active) who are incorrectly predicted to be non-churners (active). Since these are the customers that Ultimate are probably actually interested in targeting. We should examine the confusion matrix resulting from each of our ML approaches.\n",
    "\n",
    "<b>Threshold for false negatives</b>: However, we don't want a situation in which too many 'active' users get annoying ads. Otherwise there might end up being a significant number of them who churn later on. So we should look out for false negatives as well."
   ]
  },
  {
   "cell_type": "code",
   "execution_count": 39,
   "metadata": {},
   "outputs": [],
   "source": [
    "# Split the data into train & test sets before modeling\n",
    "\n",
    "from sklearn.model_selection import train_test_split\n",
    "from sklearn.model_selection import cross_val_score\n",
    "from sklearn.model_selection import KFold\n",
    "\n",
    "X_train, x_test, y_train, y_test = train_test_split(x, y, test_size=0.3, random_state=99)"
   ]
  },
  {
   "cell_type": "markdown",
   "metadata": {},
   "source": [
    "### 2.2.2 Logistic regression"
   ]
  },
  {
   "cell_type": "markdown",
   "metadata": {},
   "source": [
    "Since we were unsure of whether some of the features will be important, we use regularization to reduce the weight of less important features. Even more stringently, we use L1 (Lasso) regression in the case that unimportant features can be eliminated from the model."
   ]
  },
  {
   "cell_type": "code",
   "execution_count": 41,
   "metadata": {},
   "outputs": [
    {
     "name": "stdout",
     "output_type": "stream",
     "text": [
      "Confusion matrix: \n",
      "[[11277   155]\n",
      " [ 3328   240]]\n"
     ]
    }
   ],
   "source": [
    "from sklearn.linear_model import LogisticRegression\n",
    "from sklearn.metrics import confusion_matrix\n",
    "\n",
    "# Instantiate model\n",
    "model = LogisticRegression(penalty='l2') # instantiate logreg w/ l1 regularization\n",
    "model.fit(X_train, y_train)\n",
    "y_pred = model.predict(x_test)\n",
    "\n",
    "# Generate confusion matrix\n",
    "print('Confusion matrix: ')\n",
    "print(confusion_matrix(y_test, y_pred))"
   ]
  },
  {
   "cell_type": "markdown",
   "metadata": {},
   "source": [
    "155 of churners were incorrectly labeled as 'active' users. There are also many active users misclassified as churners (false negatives, 3328). Let's move on to the other ML approaches to see how they compare."
   ]
  },
  {
   "cell_type": "markdown",
   "metadata": {},
   "source": [
    "### 2.2.2 Decision trees"
   ]
  },
  {
   "cell_type": "markdown",
   "metadata": {},
   "source": [
    "Test different methods based on decision trees: 1) regular decision tree, 2) bagging, 3) random forest, 4) boosting. Then pick the one with the best metrics."
   ]
  },
  {
   "cell_type": "markdown",
   "metadata": {},
   "source": [
    "### Make custom scoring function"
   ]
  },
  {
   "cell_type": "markdown",
   "metadata": {},
   "source": [
    "We are most interested in reducing false positives (churned users incorrectly identified as 'active'), while ensuring low false negative rates (active users incorrectly identified as churned) since too many active users would be incorrectly spammed to \"retain\" them.\n",
    "\n",
    "We want to identify any model that is an improvement over our previous logreg model (fp: 155, fn: 3328). So we write a custom scoring function that takes any model with fp < 155, fn < 3328. Then, from this group of models, GridSearchCV identifies the model with lowest total fp + fn as the \"best\" model."
   ]
  },
  {
   "cell_type": "code",
   "execution_count": 43,
   "metadata": {},
   "outputs": [],
   "source": [
    "#from sklearn.metrics import roc_curve, auc\n",
    "from sklearn.metrics import make_scorer\n",
    "\n",
    "# Define scorer\n",
    "def false_total(y_true, y_pred):\n",
    "    matrix = confusion_matrix(y_true, y_pred)\n",
    "    false_p = matrix[0,1]\n",
    "    false_n = matrix[1,0]\n",
    "    if ((false_p < 155) & (false_n < 2000)):\n",
    "        falses = (false_p+false_n)/sum(sum(matrix))\n",
    "        return falses\n",
    "    else:\n",
    "        falses = 1\n",
    "        return falses\n",
    "\n",
    "# Make scorer\n",
    "scorer = make_scorer(false_total, greater_is_better=False)"
   ]
  },
  {
   "cell_type": "markdown",
   "metadata": {},
   "source": [
    "### Regular decision tree"
   ]
  },
  {
   "cell_type": "code",
   "execution_count": 44,
   "metadata": {},
   "outputs": [
    {
     "name": "stdout",
     "output_type": "stream",
     "text": [
      "Best parameters set found on development set:\n",
      "{'max_depth': 2} \n",
      "\n",
      "Grid scores on development set:\n",
      "-0.232 (+/-0.000) for {'max_depth': 2}\n",
      "-1.000 (+/-0.000) for {'max_depth': 3}\n",
      "-1.000 (+/-0.000) for {'max_depth': 4}\n",
      "-1.000 (+/-0.000) for {'max_depth': 5}\n",
      "-1.000 (+/-0.000) for {'max_depth': 6}\n",
      "\n",
      "Detailed classification report:\n",
      "[[11432     0]\n",
      " [ 3568     0]] \n",
      "\n"
     ]
    }
   ],
   "source": [
    "from sklearn.tree import DecisionTreeClassifier\n",
    "from sklearn.model_selection import GridSearchCV\n",
    "\n",
    "import warnings\n",
    "warnings.filterwarnings('ignore')\n",
    "\n",
    "# Decision tree\n",
    "score = scorer\n",
    "tuned_parameters = {'max_depth':range(2,7)}\n",
    "model = DecisionTreeClassifier(min_samples_split=100, max_features='sqrt', random_state=99)\n",
    "\n",
    "clf = GridSearchCV(estimator=model, param_grid=tuned_parameters, scoring=scorer, cv=5)\n",
    "clf.fit(X_train, y_train)\n",
    "\n",
    "print(\"Best parameters set found on development set:\")\n",
    "print(clf.best_params_, '\\n')\n",
    "print(\"Grid scores on development set:\")\n",
    "means = clf.cv_results_['mean_test_score']\n",
    "stds = clf.cv_results_['std_test_score']\n",
    "for mean, std, params in zip(means, stds, clf.cv_results_['params']):\n",
    "        print(\"%0.3f (+/-%0.03f) for %r\"\n",
    "              % (mean, std * 2, params))\n",
    "print()\n",
    "print(\"Detailed classification report:\")\n",
    "y_true, y_pred = y_test, clf.predict(x_test)\n",
    "print(confusion_matrix(y_true, y_pred), '\\n')"
   ]
  },
  {
   "cell_type": "markdown",
   "metadata": {},
   "source": [
    "Although we have 0 churned users incorrectly identified as 'active' now, we have too many 'active' users incorrectly identified as churners. That means a lot of active customers will receive spam. We'll move on to other methods that are typically improved versions of decision trees."
   ]
  },
  {
   "cell_type": "markdown",
   "metadata": {},
   "source": [
    "#### Bagging"
   ]
  },
  {
   "cell_type": "markdown",
   "metadata": {},
   "source": [
    "Constructs multiple trees and picks best-performing one."
   ]
  },
  {
   "cell_type": "code",
   "execution_count": 45,
   "metadata": {},
   "outputs": [
    {
     "name": "stdout",
     "output_type": "stream",
     "text": [
      "Best parameters set found on development set:\n",
      "{'n_estimators': 30} \n",
      "\n",
      "Grid scores on development set:\n",
      "-1.000 (+/-0.000) for {'n_estimators': 30}\n",
      "-1.000 (+/-0.000) for {'n_estimators': 40}\n",
      "-1.000 (+/-0.000) for {'n_estimators': 50}\n",
      "-1.000 (+/-0.000) for {'n_estimators': 60}\n",
      "-1.000 (+/-0.000) for {'n_estimators': 70}\n",
      "-1.000 (+/-0.000) for {'n_estimators': 80}\n",
      "-1.000 (+/-0.000) for {'n_estimators': 90}\n",
      "\n",
      "Detailed classification report:\n",
      "[[10064  1368]\n",
      " [ 2263  1305]] \n",
      "\n",
      "Wall time: 2min 39s\n"
     ]
    }
   ],
   "source": [
    "%%time\n",
    "\n",
    "from sklearn.ensemble import BaggingClassifier\n",
    "\n",
    "score = scorer\n",
    "tuned_parameters = {'n_estimators':range(30,91,10)}\n",
    "model = BaggingClassifier(random_state=99)\n",
    "\n",
    "clf = GridSearchCV(estimator=model, param_grid=tuned_parameters, scoring=score, cv=5)\n",
    "clf.fit(X_train, y_train)\n",
    "\n",
    "print(\"Best parameters set found on development set:\")\n",
    "print(clf.best_params_, '\\n')\n",
    "print(\"Grid scores on development set:\")\n",
    "means = clf.cv_results_['mean_test_score']\n",
    "stds = clf.cv_results_['std_test_score']\n",
    "for mean, std, params in zip(means, stds, clf.cv_results_['params']):\n",
    "        print(\"%0.3f (+/-%0.03f) for %r\"\n",
    "              % (mean, std * 2, params))\n",
    "print()\n",
    "print(\"Detailed classification report:\")\n",
    "y_true, y_pred = y_test, clf.predict(x_test)\n",
    "print(confusion_matrix(y_true, y_pred), '\\n')"
   ]
  },
  {
   "cell_type": "markdown",
   "metadata": {},
   "source": [
    "\n",
    "False negatives (active users incorrectly identified as churned), but we still have 1368 false positives (churned users we missed and incorrectly labled as 'active')."
   ]
  },
  {
   "cell_type": "markdown",
   "metadata": {},
   "source": [
    "#### Random forest"
   ]
  },
  {
   "cell_type": "markdown",
   "metadata": {},
   "source": [
    "Constructs multiple decision trees (specified by 'n_estimators') and picks best one. When forming a tree, at each node a subset of features are randomly selected out of the total features. The best split feature from this subset is used to split the node (vs. bagging, where all features considered for splitting a node)."
   ]
  },
  {
   "cell_type": "code",
   "execution_count": 46,
   "metadata": {},
   "outputs": [
    {
     "name": "stdout",
     "output_type": "stream",
     "text": [
      "Best parameters set found on development set:\n",
      "{'max_depth': 5, 'min_samples_split': 100, 'n_estimators': 40} \n",
      "\n",
      "Grid scores on development set:\n",
      "-0.232 (+/-0.000) for {'max_depth': 2, 'min_samples_split': 100, 'n_estimators': 20}\n",
      "-0.232 (+/-0.000) for {'max_depth': 2, 'min_samples_split': 100, 'n_estimators': 30}\n",
      "-0.232 (+/-0.000) for {'max_depth': 2, 'min_samples_split': 100, 'n_estimators': 40}\n",
      "-0.232 (+/-0.000) for {'max_depth': 2, 'min_samples_split': 100, 'n_estimators': 50}\n",
      "-0.232 (+/-0.000) for {'max_depth': 2, 'min_samples_split': 100, 'n_estimators': 60}\n",
      "-0.232 (+/-0.000) for {'max_depth': 2, 'min_samples_split': 100, 'n_estimators': 70}\n",
      "-0.232 (+/-0.000) for {'max_depth': 2, 'min_samples_split': 100, 'n_estimators': 80}\n",
      "-0.232 (+/-0.000) for {'max_depth': 2, 'min_samples_split': 100, 'n_estimators': 90}\n",
      "-0.232 (+/-0.000) for {'max_depth': 2, 'min_samples_split': 300, 'n_estimators': 20}\n",
      "-0.232 (+/-0.000) for {'max_depth': 2, 'min_samples_split': 300, 'n_estimators': 30}\n",
      "-0.232 (+/-0.000) for {'max_depth': 2, 'min_samples_split': 300, 'n_estimators': 40}\n",
      "-0.232 (+/-0.000) for {'max_depth': 2, 'min_samples_split': 300, 'n_estimators': 50}\n",
      "-0.232 (+/-0.000) for {'max_depth': 2, 'min_samples_split': 300, 'n_estimators': 60}\n",
      "-0.232 (+/-0.000) for {'max_depth': 2, 'min_samples_split': 300, 'n_estimators': 70}\n",
      "-0.232 (+/-0.000) for {'max_depth': 2, 'min_samples_split': 300, 'n_estimators': 80}\n",
      "-0.232 (+/-0.000) for {'max_depth': 2, 'min_samples_split': 300, 'n_estimators': 90}\n",
      "-0.232 (+/-0.000) for {'max_depth': 2, 'min_samples_split': 500, 'n_estimators': 20}\n",
      "-0.232 (+/-0.000) for {'max_depth': 2, 'min_samples_split': 500, 'n_estimators': 30}\n",
      "-0.232 (+/-0.000) for {'max_depth': 2, 'min_samples_split': 500, 'n_estimators': 40}\n",
      "-0.232 (+/-0.000) for {'max_depth': 2, 'min_samples_split': 500, 'n_estimators': 50}\n",
      "-0.232 (+/-0.000) for {'max_depth': 2, 'min_samples_split': 500, 'n_estimators': 60}\n",
      "-0.232 (+/-0.000) for {'max_depth': 2, 'min_samples_split': 500, 'n_estimators': 70}\n",
      "-0.232 (+/-0.000) for {'max_depth': 2, 'min_samples_split': 500, 'n_estimators': 80}\n",
      "-0.232 (+/-0.000) for {'max_depth': 2, 'min_samples_split': 500, 'n_estimators': 90}\n",
      "-0.232 (+/-0.000) for {'max_depth': 2, 'min_samples_split': 700, 'n_estimators': 20}\n",
      "-0.232 (+/-0.000) for {'max_depth': 2, 'min_samples_split': 700, 'n_estimators': 30}\n",
      "-0.232 (+/-0.000) for {'max_depth': 2, 'min_samples_split': 700, 'n_estimators': 40}\n",
      "-0.232 (+/-0.000) for {'max_depth': 2, 'min_samples_split': 700, 'n_estimators': 50}\n",
      "-0.232 (+/-0.000) for {'max_depth': 2, 'min_samples_split': 700, 'n_estimators': 60}\n",
      "-0.232 (+/-0.000) for {'max_depth': 2, 'min_samples_split': 700, 'n_estimators': 70}\n",
      "-0.232 (+/-0.000) for {'max_depth': 2, 'min_samples_split': 700, 'n_estimators': 80}\n",
      "-0.232 (+/-0.000) for {'max_depth': 2, 'min_samples_split': 700, 'n_estimators': 90}\n",
      "-0.232 (+/-0.000) for {'max_depth': 2, 'min_samples_split': 900, 'n_estimators': 20}\n",
      "-0.232 (+/-0.000) for {'max_depth': 2, 'min_samples_split': 900, 'n_estimators': 30}\n",
      "-0.232 (+/-0.000) for {'max_depth': 2, 'min_samples_split': 900, 'n_estimators': 40}\n",
      "-0.232 (+/-0.000) for {'max_depth': 2, 'min_samples_split': 900, 'n_estimators': 50}\n",
      "-0.232 (+/-0.000) for {'max_depth': 2, 'min_samples_split': 900, 'n_estimators': 60}\n",
      "-0.232 (+/-0.000) for {'max_depth': 2, 'min_samples_split': 900, 'n_estimators': 70}\n",
      "-0.232 (+/-0.000) for {'max_depth': 2, 'min_samples_split': 900, 'n_estimators': 80}\n",
      "-0.232 (+/-0.000) for {'max_depth': 2, 'min_samples_split': 900, 'n_estimators': 90}\n",
      "-0.231 (+/-0.003) for {'max_depth': 3, 'min_samples_split': 100, 'n_estimators': 20}\n",
      "-0.230 (+/-0.003) for {'max_depth': 3, 'min_samples_split': 100, 'n_estimators': 30}\n",
      "-0.229 (+/-0.001) for {'max_depth': 3, 'min_samples_split': 100, 'n_estimators': 40}\n",
      "-0.229 (+/-0.002) for {'max_depth': 3, 'min_samples_split': 100, 'n_estimators': 50}\n",
      "-0.229 (+/-0.002) for {'max_depth': 3, 'min_samples_split': 100, 'n_estimators': 60}\n",
      "-0.229 (+/-0.002) for {'max_depth': 3, 'min_samples_split': 100, 'n_estimators': 70}\n",
      "-0.228 (+/-0.002) for {'max_depth': 3, 'min_samples_split': 100, 'n_estimators': 80}\n",
      "-0.229 (+/-0.002) for {'max_depth': 3, 'min_samples_split': 100, 'n_estimators': 90}\n",
      "-0.231 (+/-0.003) for {'max_depth': 3, 'min_samples_split': 300, 'n_estimators': 20}\n",
      "-0.230 (+/-0.003) for {'max_depth': 3, 'min_samples_split': 300, 'n_estimators': 30}\n",
      "-0.229 (+/-0.001) for {'max_depth': 3, 'min_samples_split': 300, 'n_estimators': 40}\n",
      "-0.229 (+/-0.002) for {'max_depth': 3, 'min_samples_split': 300, 'n_estimators': 50}\n",
      "-0.229 (+/-0.002) for {'max_depth': 3, 'min_samples_split': 300, 'n_estimators': 60}\n",
      "-0.229 (+/-0.002) for {'max_depth': 3, 'min_samples_split': 300, 'n_estimators': 70}\n",
      "-0.228 (+/-0.002) for {'max_depth': 3, 'min_samples_split': 300, 'n_estimators': 80}\n",
      "-0.229 (+/-0.002) for {'max_depth': 3, 'min_samples_split': 300, 'n_estimators': 90}\n",
      "-0.231 (+/-0.003) for {'max_depth': 3, 'min_samples_split': 500, 'n_estimators': 20}\n",
      "-0.230 (+/-0.002) for {'max_depth': 3, 'min_samples_split': 500, 'n_estimators': 30}\n",
      "-0.229 (+/-0.001) for {'max_depth': 3, 'min_samples_split': 500, 'n_estimators': 40}\n",
      "-0.229 (+/-0.001) for {'max_depth': 3, 'min_samples_split': 500, 'n_estimators': 50}\n",
      "-0.229 (+/-0.002) for {'max_depth': 3, 'min_samples_split': 500, 'n_estimators': 60}\n",
      "-0.229 (+/-0.002) for {'max_depth': 3, 'min_samples_split': 500, 'n_estimators': 70}\n",
      "-0.228 (+/-0.002) for {'max_depth': 3, 'min_samples_split': 500, 'n_estimators': 80}\n",
      "-0.229 (+/-0.002) for {'max_depth': 3, 'min_samples_split': 500, 'n_estimators': 90}\n",
      "-0.231 (+/-0.003) for {'max_depth': 3, 'min_samples_split': 700, 'n_estimators': 20}\n",
      "-0.230 (+/-0.002) for {'max_depth': 3, 'min_samples_split': 700, 'n_estimators': 30}\n",
      "-0.229 (+/-0.001) for {'max_depth': 3, 'min_samples_split': 700, 'n_estimators': 40}\n",
      "-0.229 (+/-0.001) for {'max_depth': 3, 'min_samples_split': 700, 'n_estimators': 50}\n",
      "-0.229 (+/-0.002) for {'max_depth': 3, 'min_samples_split': 700, 'n_estimators': 60}\n",
      "-0.229 (+/-0.002) for {'max_depth': 3, 'min_samples_split': 700, 'n_estimators': 70}\n",
      "-0.228 (+/-0.002) for {'max_depth': 3, 'min_samples_split': 700, 'n_estimators': 80}\n",
      "-0.229 (+/-0.002) for {'max_depth': 3, 'min_samples_split': 700, 'n_estimators': 90}\n",
      "-0.231 (+/-0.003) for {'max_depth': 3, 'min_samples_split': 900, 'n_estimators': 20}\n",
      "-0.230 (+/-0.002) for {'max_depth': 3, 'min_samples_split': 900, 'n_estimators': 30}\n",
      "-0.229 (+/-0.001) for {'max_depth': 3, 'min_samples_split': 900, 'n_estimators': 40}\n",
      "-0.229 (+/-0.001) for {'max_depth': 3, 'min_samples_split': 900, 'n_estimators': 50}\n",
      "-0.229 (+/-0.002) for {'max_depth': 3, 'min_samples_split': 900, 'n_estimators': 60}\n",
      "-0.229 (+/-0.002) for {'max_depth': 3, 'min_samples_split': 900, 'n_estimators': 70}\n",
      "-0.229 (+/-0.002) for {'max_depth': 3, 'min_samples_split': 900, 'n_estimators': 80}\n",
      "-0.229 (+/-0.002) for {'max_depth': 3, 'min_samples_split': 900, 'n_estimators': 90}\n",
      "-0.225 (+/-0.003) for {'max_depth': 4, 'min_samples_split': 100, 'n_estimators': 20}\n",
      "-0.221 (+/-0.005) for {'max_depth': 4, 'min_samples_split': 100, 'n_estimators': 30}\n",
      "-0.218 (+/-0.005) for {'max_depth': 4, 'min_samples_split': 100, 'n_estimators': 40}\n",
      "-0.219 (+/-0.005) for {'max_depth': 4, 'min_samples_split': 100, 'n_estimators': 50}\n",
      "-0.219 (+/-0.005) for {'max_depth': 4, 'min_samples_split': 100, 'n_estimators': 60}\n",
      "-0.219 (+/-0.005) for {'max_depth': 4, 'min_samples_split': 100, 'n_estimators': 70}\n",
      "-0.219 (+/-0.005) for {'max_depth': 4, 'min_samples_split': 100, 'n_estimators': 80}\n",
      "-0.220 (+/-0.005) for {'max_depth': 4, 'min_samples_split': 100, 'n_estimators': 90}\n",
      "-0.224 (+/-0.001) for {'max_depth': 4, 'min_samples_split': 300, 'n_estimators': 20}\n",
      "-0.220 (+/-0.006) for {'max_depth': 4, 'min_samples_split': 300, 'n_estimators': 30}\n",
      "-0.218 (+/-0.006) for {'max_depth': 4, 'min_samples_split': 300, 'n_estimators': 40}\n",
      "-0.218 (+/-0.006) for {'max_depth': 4, 'min_samples_split': 300, 'n_estimators': 50}\n",
      "-0.219 (+/-0.005) for {'max_depth': 4, 'min_samples_split': 300, 'n_estimators': 60}\n",
      "-0.219 (+/-0.005) for {'max_depth': 4, 'min_samples_split': 300, 'n_estimators': 70}\n",
      "-0.219 (+/-0.005) for {'max_depth': 4, 'min_samples_split': 300, 'n_estimators': 80}\n",
      "-0.219 (+/-0.005) for {'max_depth': 4, 'min_samples_split': 300, 'n_estimators': 90}\n",
      "-0.225 (+/-0.003) for {'max_depth': 4, 'min_samples_split': 500, 'n_estimators': 20}\n",
      "-0.219 (+/-0.006) for {'max_depth': 4, 'min_samples_split': 500, 'n_estimators': 30}\n",
      "-0.218 (+/-0.005) for {'max_depth': 4, 'min_samples_split': 500, 'n_estimators': 40}\n",
      "-0.218 (+/-0.006) for {'max_depth': 4, 'min_samples_split': 500, 'n_estimators': 50}\n",
      "-0.219 (+/-0.006) for {'max_depth': 4, 'min_samples_split': 500, 'n_estimators': 60}\n",
      "-0.219 (+/-0.005) for {'max_depth': 4, 'min_samples_split': 500, 'n_estimators': 70}\n",
      "-0.219 (+/-0.005) for {'max_depth': 4, 'min_samples_split': 500, 'n_estimators': 80}\n",
      "-0.219 (+/-0.005) for {'max_depth': 4, 'min_samples_split': 500, 'n_estimators': 90}\n",
      "-0.223 (+/-0.002) for {'max_depth': 4, 'min_samples_split': 700, 'n_estimators': 20}\n",
      "-0.221 (+/-0.007) for {'max_depth': 4, 'min_samples_split': 700, 'n_estimators': 30}\n",
      "-0.219 (+/-0.006) for {'max_depth': 4, 'min_samples_split': 700, 'n_estimators': 40}\n",
      "-0.219 (+/-0.006) for {'max_depth': 4, 'min_samples_split': 700, 'n_estimators': 50}\n",
      "-0.219 (+/-0.005) for {'max_depth': 4, 'min_samples_split': 700, 'n_estimators': 60}\n",
      "-0.220 (+/-0.003) for {'max_depth': 4, 'min_samples_split': 700, 'n_estimators': 70}\n",
      "-0.221 (+/-0.004) for {'max_depth': 4, 'min_samples_split': 700, 'n_estimators': 80}\n",
      "-0.221 (+/-0.003) for {'max_depth': 4, 'min_samples_split': 700, 'n_estimators': 90}\n",
      "-0.225 (+/-0.003) for {'max_depth': 4, 'min_samples_split': 900, 'n_estimators': 20}\n",
      "-0.223 (+/-0.005) for {'max_depth': 4, 'min_samples_split': 900, 'n_estimators': 30}\n",
      "-0.221 (+/-0.004) for {'max_depth': 4, 'min_samples_split': 900, 'n_estimators': 40}\n",
      "-0.220 (+/-0.005) for {'max_depth': 4, 'min_samples_split': 900, 'n_estimators': 50}\n",
      "-0.220 (+/-0.004) for {'max_depth': 4, 'min_samples_split': 900, 'n_estimators': 60}\n",
      "-0.222 (+/-0.003) for {'max_depth': 4, 'min_samples_split': 900, 'n_estimators': 70}\n",
      "-0.222 (+/-0.003) for {'max_depth': 4, 'min_samples_split': 900, 'n_estimators': 80}\n",
      "-0.222 (+/-0.003) for {'max_depth': 4, 'min_samples_split': 900, 'n_estimators': 90}\n",
      "-0.217 (+/-0.004) for {'max_depth': 5, 'min_samples_split': 100, 'n_estimators': 20}\n",
      "-0.217 (+/-0.004) for {'max_depth': 5, 'min_samples_split': 100, 'n_estimators': 30}\n",
      "-0.216 (+/-0.005) for {'max_depth': 5, 'min_samples_split': 100, 'n_estimators': 40}\n",
      "-0.373 (+/-0.627) for {'max_depth': 5, 'min_samples_split': 100, 'n_estimators': 50}\n",
      "-0.373 (+/-0.627) for {'max_depth': 5, 'min_samples_split': 100, 'n_estimators': 60}\n",
      "-0.217 (+/-0.005) for {'max_depth': 5, 'min_samples_split': 100, 'n_estimators': 70}\n",
      "-0.217 (+/-0.005) for {'max_depth': 5, 'min_samples_split': 100, 'n_estimators': 80}\n",
      "-0.217 (+/-0.005) for {'max_depth': 5, 'min_samples_split': 100, 'n_estimators': 90}\n",
      "-0.218 (+/-0.003) for {'max_depth': 5, 'min_samples_split': 300, 'n_estimators': 20}\n",
      "-0.217 (+/-0.005) for {'max_depth': 5, 'min_samples_split': 300, 'n_estimators': 30}\n",
      "-0.217 (+/-0.005) for {'max_depth': 5, 'min_samples_split': 300, 'n_estimators': 40}\n",
      "-0.373 (+/-0.627) for {'max_depth': 5, 'min_samples_split': 300, 'n_estimators': 50}\n",
      "-0.373 (+/-0.627) for {'max_depth': 5, 'min_samples_split': 300, 'n_estimators': 60}\n",
      "-0.217 (+/-0.005) for {'max_depth': 5, 'min_samples_split': 300, 'n_estimators': 70}\n",
      "-0.217 (+/-0.006) for {'max_depth': 5, 'min_samples_split': 300, 'n_estimators': 80}\n",
      "-0.217 (+/-0.006) for {'max_depth': 5, 'min_samples_split': 300, 'n_estimators': 90}\n",
      "-0.219 (+/-0.003) for {'max_depth': 5, 'min_samples_split': 500, 'n_estimators': 20}\n",
      "-0.217 (+/-0.005) for {'max_depth': 5, 'min_samples_split': 500, 'n_estimators': 30}\n",
      "-0.217 (+/-0.005) for {'max_depth': 5, 'min_samples_split': 500, 'n_estimators': 40}\n",
      "-0.217 (+/-0.005) for {'max_depth': 5, 'min_samples_split': 500, 'n_estimators': 50}\n",
      "-0.217 (+/-0.006) for {'max_depth': 5, 'min_samples_split': 500, 'n_estimators': 60}\n",
      "-0.217 (+/-0.006) for {'max_depth': 5, 'min_samples_split': 500, 'n_estimators': 70}\n",
      "-0.217 (+/-0.006) for {'max_depth': 5, 'min_samples_split': 500, 'n_estimators': 80}\n",
      "-0.217 (+/-0.006) for {'max_depth': 5, 'min_samples_split': 500, 'n_estimators': 90}\n",
      "-0.218 (+/-0.005) for {'max_depth': 5, 'min_samples_split': 700, 'n_estimators': 20}\n",
      "-0.217 (+/-0.005) for {'max_depth': 5, 'min_samples_split': 700, 'n_estimators': 30}\n",
      "-0.217 (+/-0.006) for {'max_depth': 5, 'min_samples_split': 700, 'n_estimators': 40}\n",
      "-0.217 (+/-0.006) for {'max_depth': 5, 'min_samples_split': 700, 'n_estimators': 50}\n",
      "-0.217 (+/-0.005) for {'max_depth': 5, 'min_samples_split': 700, 'n_estimators': 60}\n",
      "-0.217 (+/-0.005) for {'max_depth': 5, 'min_samples_split': 700, 'n_estimators': 70}\n",
      "-0.217 (+/-0.005) for {'max_depth': 5, 'min_samples_split': 700, 'n_estimators': 80}\n",
      "-0.217 (+/-0.006) for {'max_depth': 5, 'min_samples_split': 700, 'n_estimators': 90}\n",
      "-0.219 (+/-0.004) for {'max_depth': 5, 'min_samples_split': 900, 'n_estimators': 20}\n",
      "-0.217 (+/-0.005) for {'max_depth': 5, 'min_samples_split': 900, 'n_estimators': 30}\n",
      "-0.217 (+/-0.005) for {'max_depth': 5, 'min_samples_split': 900, 'n_estimators': 40}\n",
      "-0.217 (+/-0.005) for {'max_depth': 5, 'min_samples_split': 900, 'n_estimators': 50}\n",
      "-0.217 (+/-0.005) for {'max_depth': 5, 'min_samples_split': 900, 'n_estimators': 60}\n",
      "-0.217 (+/-0.005) for {'max_depth': 5, 'min_samples_split': 900, 'n_estimators': 70}\n",
      "-0.217 (+/-0.005) for {'max_depth': 5, 'min_samples_split': 900, 'n_estimators': 80}\n",
      "-0.218 (+/-0.006) for {'max_depth': 5, 'min_samples_split': 900, 'n_estimators': 90}\n",
      "-0.529 (+/-0.769) for {'max_depth': 6, 'min_samples_split': 100, 'n_estimators': 20}\n",
      "-0.685 (+/-0.771) for {'max_depth': 6, 'min_samples_split': 100, 'n_estimators': 30}\n",
      "-0.685 (+/-0.772) for {'max_depth': 6, 'min_samples_split': 100, 'n_estimators': 40}\n",
      "-0.685 (+/-0.771) for {'max_depth': 6, 'min_samples_split': 100, 'n_estimators': 50}\n",
      "-0.843 (+/-0.628) for {'max_depth': 6, 'min_samples_split': 100, 'n_estimators': 60}\n",
      "-0.685 (+/-0.771) for {'max_depth': 6, 'min_samples_split': 100, 'n_estimators': 70}\n",
      "-0.685 (+/-0.771) for {'max_depth': 6, 'min_samples_split': 100, 'n_estimators': 80}\n",
      "-0.843 (+/-0.628) for {'max_depth': 6, 'min_samples_split': 100, 'n_estimators': 90}\n",
      "-0.529 (+/-0.769) for {'max_depth': 6, 'min_samples_split': 300, 'n_estimators': 20}\n",
      "-0.843 (+/-0.629) for {'max_depth': 6, 'min_samples_split': 300, 'n_estimators': 30}\n",
      "-0.842 (+/-0.631) for {'max_depth': 6, 'min_samples_split': 300, 'n_estimators': 40}\n",
      "-0.685 (+/-0.771) for {'max_depth': 6, 'min_samples_split': 300, 'n_estimators': 50}\n",
      "-0.529 (+/-0.769) for {'max_depth': 6, 'min_samples_split': 300, 'n_estimators': 60}\n",
      "-0.529 (+/-0.769) for {'max_depth': 6, 'min_samples_split': 300, 'n_estimators': 70}\n",
      "-0.529 (+/-0.768) for {'max_depth': 6, 'min_samples_split': 300, 'n_estimators': 80}\n",
      "-0.529 (+/-0.769) for {'max_depth': 6, 'min_samples_split': 300, 'n_estimators': 90}\n",
      "-0.686 (+/-0.770) for {'max_depth': 6, 'min_samples_split': 500, 'n_estimators': 20}\n",
      "-0.843 (+/-0.627) for {'max_depth': 6, 'min_samples_split': 500, 'n_estimators': 30}\n",
      "-0.529 (+/-0.769) for {'max_depth': 6, 'min_samples_split': 500, 'n_estimators': 40}\n",
      "-0.529 (+/-0.769) for {'max_depth': 6, 'min_samples_split': 500, 'n_estimators': 50}\n",
      "-0.529 (+/-0.769) for {'max_depth': 6, 'min_samples_split': 500, 'n_estimators': 60}\n",
      "-0.687 (+/-0.767) for {'max_depth': 6, 'min_samples_split': 500, 'n_estimators': 70}\n",
      "-0.529 (+/-0.770) for {'max_depth': 6, 'min_samples_split': 500, 'n_estimators': 80}\n",
      "-0.687 (+/-0.767) for {'max_depth': 6, 'min_samples_split': 500, 'n_estimators': 90}\n",
      "-0.530 (+/-0.768) for {'max_depth': 6, 'min_samples_split': 700, 'n_estimators': 20}\n",
      "-0.373 (+/-0.627) for {'max_depth': 6, 'min_samples_split': 700, 'n_estimators': 30}\n",
      "-0.372 (+/-0.628) for {'max_depth': 6, 'min_samples_split': 700, 'n_estimators': 40}\n",
      "-0.529 (+/-0.769) for {'max_depth': 6, 'min_samples_split': 700, 'n_estimators': 50}\n",
      "-0.529 (+/-0.770) for {'max_depth': 6, 'min_samples_split': 700, 'n_estimators': 60}\n",
      "-0.373 (+/-0.627) for {'max_depth': 6, 'min_samples_split': 700, 'n_estimators': 70}\n",
      "-0.373 (+/-0.627) for {'max_depth': 6, 'min_samples_split': 700, 'n_estimators': 80}\n",
      "-0.373 (+/-0.627) for {'max_depth': 6, 'min_samples_split': 700, 'n_estimators': 90}\n",
      "-0.686 (+/-0.770) for {'max_depth': 6, 'min_samples_split': 900, 'n_estimators': 20}\n",
      "-0.529 (+/-0.769) for {'max_depth': 6, 'min_samples_split': 900, 'n_estimators': 30}\n",
      "-0.529 (+/-0.769) for {'max_depth': 6, 'min_samples_split': 900, 'n_estimators': 40}\n",
      "-0.529 (+/-0.769) for {'max_depth': 6, 'min_samples_split': 900, 'n_estimators': 50}\n",
      "-0.529 (+/-0.770) for {'max_depth': 6, 'min_samples_split': 900, 'n_estimators': 60}\n",
      "-0.529 (+/-0.770) for {'max_depth': 6, 'min_samples_split': 900, 'n_estimators': 70}\n",
      "-0.529 (+/-0.769) for {'max_depth': 6, 'min_samples_split': 900, 'n_estimators': 80}\n",
      "-0.529 (+/-0.769) for {'max_depth': 6, 'min_samples_split': 900, 'n_estimators': 90}\n",
      "\n",
      "Detailed classification report:\n",
      "[[11156   276]\n",
      " [ 3077   491]] \n",
      "\n",
      "Wall time: 11min 25s\n"
     ]
    }
   ],
   "source": [
    "%%time\n",
    "\n",
    "from sklearn.ensemble import RandomForestClassifier\n",
    "\n",
    "score = scorer\n",
    "tuned_parameters = {'n_estimators':range(20,91,10), 'max_depth':range(2,7), 'min_samples_split':range(100,1000,200)}\n",
    "model = RandomForestClassifier(random_state=99)\n",
    "\n",
    "clf = GridSearchCV(estimator=model, param_grid=tuned_parameters, scoring=score, cv=5)\n",
    "clf.fit(X_train, y_train)\n",
    "\n",
    "print(\"Best parameters set found on development set:\")\n",
    "print(clf.best_params_, '\\n')\n",
    "print(\"Grid scores on development set:\")\n",
    "means = clf.cv_results_['mean_test_score']\n",
    "stds = clf.cv_results_['std_test_score']\n",
    "for mean, std, params in zip(means, stds, clf.cv_results_['params']):\n",
    "        print(\"%0.3f (+/-%0.03f) for %r\"\n",
    "              % (mean, std * 2, params))\n",
    "print()\n",
    "print(\"Detailed classification report:\")\n",
    "y_true, y_pred = y_test, clf.predict(x_test)\n",
    "print(confusion_matrix(y_true, y_pred), '\\n')"
   ]
  },
  {
   "cell_type": "markdown",
   "metadata": {},
   "source": [
    "This is slightly better than all the models we've used so far, including the logreg model. Let's try AdaBoost to see if we can further improve."
   ]
  },
  {
   "cell_type": "markdown",
   "metadata": {},
   "source": [
    "### AdaBoost"
   ]
  },
  {
   "cell_type": "markdown",
   "metadata": {},
   "source": [
    "Gives weight to the misclassified data points. Might be useful since we have a disproportionately small number of active users that might be misclassified."
   ]
  },
  {
   "cell_type": "code",
   "execution_count": 47,
   "metadata": {},
   "outputs": [
    {
     "name": "stdout",
     "output_type": "stream",
     "text": [
      "Best parameters set found on development set:\n",
      "{'n_estimators': 20} \n",
      "\n",
      "Grid scores on development set:\n",
      "-1.000 (+/-0.000) for {'n_estimators': 20}\n",
      "-1.000 (+/-0.000) for {'n_estimators': 30}\n",
      "-1.000 (+/-0.000) for {'n_estimators': 40}\n",
      "-1.000 (+/-0.000) for {'n_estimators': 50}\n",
      "-1.000 (+/-0.000) for {'n_estimators': 60}\n",
      "-1.000 (+/-0.000) for {'n_estimators': 70}\n",
      "-1.000 (+/-0.000) for {'n_estimators': 80}\n",
      "-1.000 (+/-0.000) for {'n_estimators': 90}\n",
      "\n",
      "Detailed classification report:\n",
      "[[10659   773]\n",
      " [ 2523  1045]] \n",
      "\n",
      "Wall time: 45.3 s\n"
     ]
    }
   ],
   "source": [
    "%%time\n",
    "\n",
    "from sklearn.ensemble import AdaBoostClassifier\n",
    "\n",
    "score = scorer\n",
    "tuned_parameters = {'n_estimators':range(20,91,10)}\n",
    "model = AdaBoostClassifier(random_state=99)\n",
    "\n",
    "clf = GridSearchCV(estimator=model, param_grid=tuned_parameters, scoring=score, cv=5)\n",
    "clf.fit(X_train, y_train)\n",
    "\n",
    "print(\"Best parameters set found on development set:\")\n",
    "print(clf.best_params_, '\\n')\n",
    "print(\"Grid scores on development set:\")\n",
    "means = clf.cv_results_['mean_test_score']\n",
    "stds = clf.cv_results_['std_test_score']\n",
    "for mean, std, params in zip(means, stds, clf.cv_results_['params']):\n",
    "        print(\"%0.3f (+/-%0.03f) for %r\"\n",
    "              % (mean, std * 2, params))\n",
    "print()\n",
    "print(\"Detailed classification report:\")\n",
    "y_true, y_pred = y_test, clf.predict(x_test)\n",
    "print(confusion_matrix(y_true, y_pred), '\\n')"
   ]
  },
  {
   "cell_type": "markdown",
   "metadata": {},
   "source": [
    "The number of fn is much lower, which means fewer active users will be incorrectly identified as churners/spammed to \"retain\" them. However, the number of fp is higher than logreg and our optimal random forest model."
   ]
  },
  {
   "cell_type": "markdown",
   "metadata": {},
   "source": [
    "### 2.2.3 Naive bayes"
   ]
  },
  {
   "cell_type": "markdown",
   "metadata": {},
   "source": [
    "Finally, we'll try the Naive bayes classifier.\n",
    "\n",
    "It is rooted in probability (<b>Bayes theorem</b>) and generates predictions based on past data - given prior training data with features and labelled outcomes, what can we predict with our set of test observations and their features? The label it predicts for each observation is based on its calculation of the likeliest out of the possible labels."
   ]
  },
  {
   "cell_type": "code",
   "execution_count": 48,
   "metadata": {},
   "outputs": [
    {
     "name": "stdout",
     "output_type": "stream",
     "text": [
      "[[11432     0]\n",
      " [ 3568     0]]\n"
     ]
    }
   ],
   "source": [
    "from sklearn.naive_bayes import MultinomialNB\n",
    "\n",
    "# Instantiate a Multinomial Naive Bayes classifier: nb_classifier\n",
    "nb_classifier = MultinomialNB()\n",
    "\n",
    "# Fit the classifier to the training data\n",
    "nb_classifier.fit(X_train, y_train)\n",
    "\n",
    "# Create the predicted tags: pred\n",
    "y_true, y_pred = y_test, nb_classifier.predict(x_test)\n",
    "\n",
    "print(confusion_matrix(y_true, y_pred))"
   ]
  },
  {
   "cell_type": "markdown",
   "metadata": {},
   "source": [
    "No fp, but too many fn - same result as one of our less optimal models earlier."
   ]
  },
  {
   "cell_type": "markdown",
   "metadata": {},
   "source": [
    "#### 2.2.4 Feature importances"
   ]
  },
  {
   "cell_type": "markdown",
   "metadata": {},
   "source": [
    "Our final model is a <b>Random Forest Classifier</b>, with {'max_depth': 4, 'min_samples_split': 100, 'n_estimators': 30}. This balances our lowest number of false positives (195, churned users incorrectly identified as 'active') and false negatives (3215, 'active' users incorrectly identified as churned).\n",
    "\n",
    "Let's take a look at the most important features."
   ]
  },
  {
   "cell_type": "code",
   "execution_count": 50,
   "metadata": {},
   "outputs": [
    {
     "data": {
      "image/png": "[encoded data removed]",
      "text/plain": [
       "<Figure size 1008x432 with 1 Axes>"
      ]
     },
     "metadata": {},
     "output_type": "display_data"
    }
   ],
   "source": [
    "# Recreate our best model\n",
    "model = RandomForestClassifier(max_depth=4, min_samples_split=100, n_estimators=30, random_state=99)\n",
    "model.fit(X_train, y_train)\n",
    "y_true, y_pred = y_test, model.predict(x_test)\n",
    "\n",
    "# Plot relative importance of features\n",
    "plt.figure(figsize=(14,6));\n",
    "plt.bar(df_users.columns[:-1].tolist(), model.feature_importances_);\n",
    "plt.title('Relative importance of features');\n"
   ]
  },
  {
   "cell_type": "markdown",
   "metadata": {},
   "source": [
    "Most important features appear to be average rating by driver and % of user's trips occurring during weekday."
   ]
  },
  {
   "cell_type": "markdown",
   "metadata": {},
   "source": [
    "#### 2.2.4 Results"
   ]
  },
  {
   "cell_type": "markdown",
   "metadata": {},
   "source": [
    "<b>Approach</b>. Ultimate's goal is to predict rider retention. Presumably this means they would like to predict users at risk for churn and target them for marketing campaigns, discounts, getting in touch, etc. that would retain these users.\n",
    "\n",
    "As a result, our model emphasizes minimizing false positives (churned users misclassified as 'active' and thus missed by marketing campaigns, etc), while balancing a reasonable amount of false negatives ('active' users misclassified as churners who would then get spammed with these marketing campaigns).\n",
    "<b>Predicting churned users</b>. Our final model is a <b>Random Forest Classifier</b>, with {'max_depth': 4, 'min_samples_split': 100, 'n_estimators': 30}. This model does a good job of predicting churned users, with only 1.3% of churners being misclassified as 'active'.\n",
    "\n",
    "The cost is that 21.4% of active users are misclassified as churners, which means they could receive marketing targeted towards churners. However, if this does not result in active users churning (presumably Ultimate adds value sufficiently that they are active users), then this is not necessarily an issue.\n",
    "Still, Ultimate should do further tests to determine how detrimental these false negatives are - will active users necessarily churn because they receive ads as well? And at what frequency of ads would active users begin to churn? A balance can probably be struck."
   ]
  },
  {
   "cell_type": "markdown",
   "metadata": {},
   "source": [
    "## 2.3 Discussion"
   ]
  },
  {
   "cell_type": "markdown",
   "metadata": {},
   "source": [
    "How should Ultimate leverage these insights to improve its longterm rider retention?\n",
    "\n",
    "The features that were most predictive of 'active'/'inactive' were <b>average rating by driver</b></i> and percent of user's trips occurring during weekday</i>. As a result, our further recommendations to Ultimate are:\n",
    "\n",
    "Promote positive driver-rider interaction. It seems lower average rating by driver --> more risk for rider churning. Riders probably had dissatisfactory experiences. Encourage drivers to offer amenities that don't cost them much, such as water, candy, etc. Encourage them to ask a basic set of questions to improve rider mood/reduce likelihood of bad driver interaction, such as offering to roll down window, asking about AC, music, etc. Thus, average rating by driver may improve, resulting in less churning.\n",
    "\n",
    "Target churners with weekday discounts. From our analysis, percent of user's trips during weekday is important predictor of churning. Increasing churners' weekday trips may therefore improve likelihood of them remaining customers. This could be accomplished by offering them weekday discounts for their Ultimate trips, making Ultimate more of a weekday routine for them and therefore increasing the likelihood they will remain active users.\n",
    "\n",
    "Extend weekday discounts for \"worst\" churners. Even if some churners only \"stay\" as long as there is a weekly discount, if Ultimate is not losing money on these customers that would otherwise not use their service and are price-sensitive, it may be useful to extend these discounts for select churners. We recommend Ultimate to identify the most price-sensitive churners."
   ]
  },
  {
   "cell_type": "code",
   "execution_count": null,
   "metadata": {},
   "outputs": [],
   "source": []
  }
 ],
 "metadata": {
  "kernelspec": {
   "display_name": "Python 3",
   "language": "python",
   "name": "python3"
  },
  "language_info": {
   "codemirror_mode": {
    "name": "ipython",
    "version": 3
   },
   "file_extension": ".py",
   "mimetype": "text/x-python",
   "name": "python",
   "nbconvert_exporter": "python",
   "pygments_lexer": "ipython3",
   "version": "3.8.3"
  }
 },
 "nbformat": 4,
 "nbformat_minor": 5
}
